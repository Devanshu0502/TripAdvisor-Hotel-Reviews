{
 "cells": [
  {
   "cell_type": "markdown",
   "id": "7a91e4ff",
   "metadata": {},
   "source": [
    "*******************************************************\n",
    "# Deep Learning | Tripadvisor hotel reviews dataset\n",
    "********************************************************"
   ]
  },
  {
   "cell_type": "markdown",
   "id": "b39bcbe5",
   "metadata": {},
   "source": [
    "## Importing Libraries"
   ]
  },
  {
   "cell_type": "code",
   "execution_count": 1,
   "id": "1a7086b6",
   "metadata": {},
   "outputs": [
    {
     "name": "stdout",
     "output_type": "stream",
     "text": [
      "Wall time: 3.53 s\n"
     ]
    }
   ],
   "source": [
    "%%time\n",
    "\n",
    "import numpy as np\n",
    "from tensorflow import keras\n",
    "from tensorflow.keras import layers\n",
    "import tensorflow_hub as hub\n",
    "import tensorflow as tf\n",
    "from keras.utils import np_utils\n",
    "import pandas as pd\n",
    "import matplotlib.pyplot as plt\n",
    "import seaborn as sns\n",
    "from time import time\n",
    "from keras.callbacks import EarlyStopping\n",
    "from sklearn.metrics import classification_report, ConfusionMatrixDisplay, confusion_matrix\n",
    "from sklearn.decomposition import PCA\n",
    "from sklearn.preprocessing import MinMaxScaler,StandardScaler, LabelEncoder\n",
    "from sklearn.model_selection import train_test_split"
   ]
  },
  {
   "cell_type": "markdown",
   "id": "cb9f1380",
   "metadata": {},
   "source": [
    "********************************\n",
    "# Part - 1\n",
    "********************************"
   ]
  },
  {
   "cell_type": "code",
   "execution_count": 2,
   "id": "924bef03",
   "metadata": {},
   "outputs": [
    {
     "name": "stdout",
     "output_type": "stream",
     "text": [
      "Wall time: 145 ms\n"
     ]
    }
   ],
   "source": [
    "%%time\n",
    "df = pd.read_csv(\"tripadvisor_hotel_reviews.csv\")"
   ]
  },
  {
   "cell_type": "code",
   "execution_count": 3,
   "id": "8d19c763",
   "metadata": {},
   "outputs": [
    {
     "name": "stdout",
     "output_type": "stream",
     "text": [
      "Wall time: 997 µs\n"
     ]
    },
    {
     "data": {
      "text/html": [
       "<div>\n",
       "<style scoped>\n",
       "    .dataframe tbody tr th:only-of-type {\n",
       "        vertical-align: middle;\n",
       "    }\n",
       "\n",
       "    .dataframe tbody tr th {\n",
       "        vertical-align: top;\n",
       "    }\n",
       "\n",
       "    .dataframe thead th {\n",
       "        text-align: right;\n",
       "    }\n",
       "</style>\n",
       "<table border=\"1\" class=\"dataframe\">\n",
       "  <thead>\n",
       "    <tr style=\"text-align: right;\">\n",
       "      <th></th>\n",
       "      <th>Review</th>\n",
       "      <th>Rating</th>\n",
       "    </tr>\n",
       "  </thead>\n",
       "  <tbody>\n",
       "    <tr>\n",
       "      <th>0</th>\n",
       "      <td>nice hotel expensive parking got good deal sta...</td>\n",
       "      <td>4</td>\n",
       "    </tr>\n",
       "    <tr>\n",
       "      <th>1</th>\n",
       "      <td>ok nothing special charge diamond member hilto...</td>\n",
       "      <td>2</td>\n",
       "    </tr>\n",
       "    <tr>\n",
       "      <th>2</th>\n",
       "      <td>nice rooms not 4* experience hotel monaco seat...</td>\n",
       "      <td>3</td>\n",
       "    </tr>\n",
       "    <tr>\n",
       "      <th>3</th>\n",
       "      <td>unique, great stay, wonderful time hotel monac...</td>\n",
       "      <td>5</td>\n",
       "    </tr>\n",
       "    <tr>\n",
       "      <th>4</th>\n",
       "      <td>great stay great stay, went seahawk game aweso...</td>\n",
       "      <td>5</td>\n",
       "    </tr>\n",
       "  </tbody>\n",
       "</table>\n",
       "</div>"
      ],
      "text/plain": [
       "                                              Review  Rating\n",
       "0  nice hotel expensive parking got good deal sta...       4\n",
       "1  ok nothing special charge diamond member hilto...       2\n",
       "2  nice rooms not 4* experience hotel monaco seat...       3\n",
       "3  unique, great stay, wonderful time hotel monac...       5\n",
       "4  great stay great stay, went seahawk game aweso...       5"
      ]
     },
     "execution_count": 3,
     "metadata": {},
     "output_type": "execute_result"
    }
   ],
   "source": [
    "%%time\n",
    "df.head()"
   ]
  },
  {
   "cell_type": "markdown",
   "id": "4eb6b9a0",
   "metadata": {},
   "source": [
    "## Data Visualization"
   ]
  },
  {
   "cell_type": "code",
   "execution_count": 4,
   "id": "d51acc9b",
   "metadata": {},
   "outputs": [
    {
     "name": "stdout",
     "output_type": "stream",
     "text": [
      "Wall time: 8.97 ms\n"
     ]
    },
    {
     "data": {
      "text/html": [
       "<div>\n",
       "<style scoped>\n",
       "    .dataframe tbody tr th:only-of-type {\n",
       "        vertical-align: middle;\n",
       "    }\n",
       "\n",
       "    .dataframe tbody tr th {\n",
       "        vertical-align: top;\n",
       "    }\n",
       "\n",
       "    .dataframe thead th {\n",
       "        text-align: right;\n",
       "    }\n",
       "</style>\n",
       "<table border=\"1\" class=\"dataframe\">\n",
       "  <thead>\n",
       "    <tr style=\"text-align: right;\">\n",
       "      <th></th>\n",
       "      <th>Review</th>\n",
       "      <th>Rating</th>\n",
       "    </tr>\n",
       "  </thead>\n",
       "  <tbody>\n",
       "    <tr>\n",
       "      <th>11578</th>\n",
       "      <td>not good checked asked room track said dollars...</td>\n",
       "      <td>1</td>\n",
       "    </tr>\n",
       "    <tr>\n",
       "      <th>17628</th>\n",
       "      <td>terrible service ignorant staff reading great ...</td>\n",
       "      <td>1</td>\n",
       "    </tr>\n",
       "    <tr>\n",
       "      <th>20295</th>\n",
       "      <td>westin vs expedia booked expedia people reques...</td>\n",
       "      <td>2</td>\n",
       "    </tr>\n",
       "    <tr>\n",
       "      <th>2785</th>\n",
       "      <td>not repeat customer seeing positive reviews si...</td>\n",
       "      <td>2</td>\n",
       "    </tr>\n",
       "    <tr>\n",
       "      <th>8816</th>\n",
       "      <td>american hotel amsterdam based reviews trip ad...</td>\n",
       "      <td>3</td>\n",
       "    </tr>\n",
       "    <tr>\n",
       "      <th>14032</th>\n",
       "      <td>good hotel, stayed mid-march 2004 pretty pleas...</td>\n",
       "      <td>3</td>\n",
       "    </tr>\n",
       "    <tr>\n",
       "      <th>18653</th>\n",
       "      <td>pretty good price husband stayed majestic 7 da...</td>\n",
       "      <td>4</td>\n",
       "    </tr>\n",
       "    <tr>\n",
       "      <th>18969</th>\n",
       "      <td>great style service stayed granados 83 october...</td>\n",
       "      <td>4</td>\n",
       "    </tr>\n",
       "    <tr>\n",
       "      <th>17134</th>\n",
       "      <td>hotel hotel seen like it.stayed hotel 7th feb ...</td>\n",
       "      <td>5</td>\n",
       "    </tr>\n",
       "    <tr>\n",
       "      <th>17132</th>\n",
       "      <td>fabulous vacation, loved bahia principe, staff...</td>\n",
       "      <td>5</td>\n",
       "    </tr>\n",
       "  </tbody>\n",
       "</table>\n",
       "</div>"
      ],
      "text/plain": [
       "                                                  Review  Rating\n",
       "11578  not good checked asked room track said dollars...       1\n",
       "17628  terrible service ignorant staff reading great ...       1\n",
       "20295  westin vs expedia booked expedia people reques...       2\n",
       "2785   not repeat customer seeing positive reviews si...       2\n",
       "8816   american hotel amsterdam based reviews trip ad...       3\n",
       "14032  good hotel, stayed mid-march 2004 pretty pleas...       3\n",
       "18653  pretty good price husband stayed majestic 7 da...       4\n",
       "18969  great style service stayed granados 83 october...       4\n",
       "17134  hotel hotel seen like it.stayed hotel 7th feb ...       5\n",
       "17132  fabulous vacation, loved bahia principe, staff...       5"
      ]
     },
     "execution_count": 4,
     "metadata": {},
     "output_type": "execute_result"
    }
   ],
   "source": [
    "%%time\n",
    "# Print two records from each class\n",
    "df.sort_values(['Rating']).groupby('Rating').head(2)"
   ]
  },
  {
   "cell_type": "markdown",
   "id": "b5b61b14",
   "metadata": {},
   "source": [
    "Any other visualizations that seem appropriate for this problem are encouraged but not necessary, for the points.\n",
    "Print the shapes of train and test data."
   ]
  },
  {
   "cell_type": "code",
   "execution_count": 5,
   "id": "16f40ad6",
   "metadata": {},
   "outputs": [
    {
     "name": "stdout",
     "output_type": "stream",
     "text": [
      "Wall time: 173 ms\n"
     ]
    },
    {
     "data": {
      "text/plain": [
       "<seaborn.axisgrid.FacetGrid at 0x1ef8c8a9b38>"
      ]
     },
     "execution_count": 5,
     "metadata": {},
     "output_type": "execute_result"
    },
    {
     "data": {
      "image/png": "[encoded data removed]",
      "text/plain": [
       "<Figure size 360x360 with 1 Axes>"
      ]
     },
     "metadata": {
      "needs_background": "light"
     },
     "output_type": "display_data"
    }
   ],
   "source": [
    "%%time\n",
    "sns.displot(x=\"Rating\", data=df)"
   ]
  },
  {
   "cell_type": "markdown",
   "id": "9ba70fe4",
   "metadata": {},
   "source": [
    "## Data Pre-processing"
   ]
  },
  {
   "cell_type": "code",
   "execution_count": 6,
   "id": "47992451",
   "metadata": {},
   "outputs": [
    {
     "name": "stdout",
     "output_type": "stream",
     "text": [
      "Wall time: 1.57 s\n"
     ]
    }
   ],
   "source": [
    "%%time\n",
    "embed = hub.load(\"https://tfhub.dev/google/nnlm-en-dim128/2\")\n",
    "embeded_reviews = embed(df['Review'])"
   ]
  },
  {
   "cell_type": "code",
   "execution_count": 7,
   "id": "bfca2034",
   "metadata": {},
   "outputs": [
    {
     "name": "stdout",
     "output_type": "stream",
     "text": [
      "Wall time: 5.52 ms\n"
     ]
    },
    {
     "data": {
      "text/plain": [
       "array([[ 0.20585984,  0.18637095, -0.15752402, ..., -0.0944639 ,\n",
       "         0.5119964 , -0.01507805],\n",
       "       [ 0.24491759,  0.6142323 , -0.15370035, ..., -0.30324394,\n",
       "         0.6917187 , -0.1235842 ],\n",
       "       [ 0.02124509,  0.52650404, -0.2957632 , ..., -0.38237888,\n",
       "         0.7460834 , -0.1734074 ],\n",
       "       ...,\n",
       "       [ 0.06914312,  0.29563522, -0.17144734, ..., -0.5006316 ,\n",
       "         0.4049592 , -0.11970636],\n",
       "       [ 0.4242196 ,  1.065797  , -0.12848337, ..., -0.24944922,\n",
       "         0.85995525,  0.14251286],\n",
       "       [ 0.16960736,  0.37283498, -0.05605149, ..., -0.07607685,\n",
       "         0.53097796,  0.16431849]], dtype=float32)"
      ]
     },
     "execution_count": 7,
     "metadata": {},
     "output_type": "execute_result"
    }
   ],
   "source": [
    "%%time\n",
    "embeded_reviews = embeded_reviews.numpy()\n",
    "embeded_reviews"
   ]
  },
  {
   "cell_type": "code",
   "execution_count": 8,
   "id": "1fd12bd1",
   "metadata": {},
   "outputs": [
    {
     "name": "stdout",
     "output_type": "stream",
     "text": [
      "Wall time: 1.96 ms\n"
     ]
    }
   ],
   "source": [
    "%%time\n",
    "encoder = LabelEncoder()\n",
    "encoder.fit(df['Rating'])\n",
    "encoded_Rating = encoder.transform(df['Rating'])\n",
    "dummy_Rating = np_utils.to_categorical(encoded_Rating)"
   ]
  },
  {
   "cell_type": "code",
   "execution_count": 9,
   "id": "0071f7d1",
   "metadata": {},
   "outputs": [
    {
     "name": "stdout",
     "output_type": "stream",
     "text": [
      "Wall time: 998 µs\n"
     ]
    }
   ],
   "source": [
    "%%time\n",
    "# Label encoding inverse to check whether the encoding happened correctly or not.\n",
    "df['Rating_trans'] = np.argmax(dummy_Rating, axis=-1)"
   ]
  },
  {
   "cell_type": "code",
   "execution_count": 10,
   "id": "48b87048",
   "metadata": {
    "scrolled": true
   },
   "outputs": [
    {
     "name": "stdout",
     "output_type": "stream",
     "text": [
      "Wall time: 0 ns\n"
     ]
    },
    {
     "data": {
      "text/plain": [
       "array([[0., 0., 0., 1., 0.],\n",
       "       [0., 1., 0., 0., 0.],\n",
       "       [0., 0., 1., 0., 0.],\n",
       "       ...,\n",
       "       [0., 1., 0., 0., 0.],\n",
       "       [1., 0., 0., 0., 0.],\n",
       "       [0., 1., 0., 0., 0.]], dtype=float32)"
      ]
     },
     "execution_count": 10,
     "metadata": {},
     "output_type": "execute_result"
    }
   ],
   "source": [
    "%%time\n",
    "dummy_Rating"
   ]
  },
  {
   "cell_type": "code",
   "execution_count": 11,
   "id": "3381cac3",
   "metadata": {},
   "outputs": [
    {
     "name": "stdout",
     "output_type": "stream",
     "text": [
      "Wall time: 8.98 ms\n"
     ]
    }
   ],
   "source": [
    "%%time\n",
    "X_train, X_test, y_train, y_test = train_test_split(embeded_reviews, dummy_Rating, test_size=0.3, random_state=42)\n",
    "\n",
    "inverse_transformed_y_test = np.argmax(y_test, axis=-1)"
   ]
  },
  {
   "cell_type": "code",
   "execution_count": 12,
   "id": "8a4d9f7e",
   "metadata": {},
   "outputs": [
    {
     "name": "stdout",
     "output_type": "stream",
     "text": [
      "Wall time: 998 µs\n"
     ]
    }
   ],
   "source": [
    "%%time\n",
    "# summarize history for loss\n",
    "def plot_model_loss(history):\n",
    "    plt.plot(history.history['loss'])\n",
    "    plt.plot(history.history['val_loss'])\n",
    "    plt.title('model loss')\n",
    "    plt.ylabel('loss')\n",
    "    plt.xlabel('epoch')\n",
    "    plt.legend(['train', 'test'], loc='upper left')\n",
    "    plt.show()\n",
    "    \n",
    "# summarize history for accuracy\n",
    "def plot_model_accuracy(history):\n",
    "    plt.plot(history.history['accuracy'])\n",
    "    plt.plot(history.history['val_accuracy'])\n",
    "    plt.title('model accuracy')\n",
    "    plt.ylabel('accuracy')\n",
    "    plt.xlabel('epoch')\n",
    "    plt.legend(['train', 'test'], loc='upper left')\n",
    "    plt.show()\n",
    "\n",
    "# Added custom callback function for the keras which we are implement so that we can trace the total training time elaspsed.\n",
    "class TimingCallback(keras.callbacks.Callback):\n",
    "  def __init__(self):\n",
    "    self.logs=[]\n",
    "  def on_epoch_begin(self, epoch, logs=None):\n",
    "    self.starttime=time()\n",
    "  def on_epoch_end(self, epoch, logs=None):\n",
    "    self.logs.append(time()-self.starttime)\n",
    "    \n",
    "def calculate_total_correct_incorrect_prediction(confusion_matrix):\n",
    "    array = []\n",
    "    for i in range(0, confusion_matrix.shape[1]):\n",
    "        temp = []\n",
    "        temp2 = 0\n",
    "        temp.append(i + 1)\n",
    "        for j in range(0, confusion_matrix[i].shape[0]):\n",
    "            if i == j:\n",
    "                temp.append(confusion_matrix[i][j])\n",
    "            else:\n",
    "                temp2 += confusion_matrix[i][j]\n",
    "        total = temp[1] + temp2\n",
    "        temp.append(str(round((temp[1] / total) * 100, 2)) + '%') \n",
    "        temp.append(temp2)\n",
    "        temp.append(str(round((temp2 / total) * 100, 2)) + '%') \n",
    "        array.append(temp)\n",
    "    return pd.DataFrame(array, columns = ['Rating', 'Correct', 'Correct_Perc','Incorrect', 'InCorrect_Perc'])"
   ]
  },
  {
   "cell_type": "code",
   "execution_count": 13,
   "id": "260a4c5a",
   "metadata": {},
   "outputs": [
    {
     "name": "stdout",
     "output_type": "stream",
     "text": [
      "Wall time: 0 ns\n"
     ]
    }
   ],
   "source": [
    "%%time\n",
    "q1_model_comparision = []"
   ]
  },
  {
   "cell_type": "markdown",
   "id": "b4a81335",
   "metadata": {},
   "source": [
    "## Deep learning models"
   ]
  },
  {
   "cell_type": "markdown",
   "id": "caa5e914",
   "metadata": {},
   "source": [
    "### Model 1\n",
    "#### 1. Model Building\n",
    "The model is build with sequential model having 3 hidden layers. Having 128 nodes in first hidden layer, 64 nodes in second hidden layer and 64 in the third layer. We noticed that the model was training well with the less number of the nodes since we have a good amount of data. Hence with many Experimental configuration, this was one which was giving the top results."
   ]
  },
  {
   "cell_type": "code",
   "execution_count": 14,
   "id": "07987353",
   "metadata": {
    "scrolled": true
   },
   "outputs": [
    {
     "name": "stdout",
     "output_type": "stream",
     "text": [
      "Model: \"Model-4\"\n",
      "_________________________________________________________________\n",
      "Layer (type)                 Output Shape              Param #   \n",
      "=================================================================\n",
      "dense (Dense)                (None, 128)               16512     \n",
      "_________________________________________________________________\n",
      "dropout (Dropout)            (None, 128)               0         \n",
      "_________________________________________________________________\n",
      "dense_1 (Dense)              (None, 64)                8256      \n",
      "_________________________________________________________________\n",
      "dense_2 (Dense)              (None, 64)                4160      \n",
      "_________________________________________________________________\n",
      "dense_3 (Dense)              (None, 5)                 325       \n",
      "=================================================================\n",
      "Total params: 29,253\n",
      "Trainable params: 29,253\n",
      "Non-trainable params: 0\n",
      "_________________________________________________________________\n",
      "Wall time: 48.9 ms\n"
     ]
    }
   ],
   "source": [
    "%%time\n",
    "model4 = keras.Sequential(name = 'Model-4')\n",
    "model4.add(layers.InputLayer(input_shape=(128,)))\n",
    "\n",
    "model4.add(layers.Dense(128, activation='relu', kernel_regularizer='l2'))\n",
    "model4.add(layers.Dropout(0.4))\n",
    "model4.add(layers.Dense(64, activation='relu', kernel_regularizer='l2'))\n",
    "model4.add(layers.Dense(64, activation='relu', kernel_regularizer='l2'))\n",
    "\n",
    "model4.add(layers.Dense(5, activation='softmax'))\n",
    "\n",
    "model4.summary()"
   ]
  },
  {
   "cell_type": "markdown",
   "id": "bc5e4872",
   "metadata": {},
   "source": [
    "#### 2. Model Compilation"
   ]
  },
  {
   "cell_type": "code",
   "execution_count": 15,
   "id": "8fc008a0",
   "metadata": {},
   "outputs": [
    {
     "name": "stdout",
     "output_type": "stream",
     "text": [
      "Wall time: 16 ms\n"
     ]
    }
   ],
   "source": [
    "%%time\n",
    "model4.compile(loss='categorical_crossentropy', metrics=['accuracy'], optimizer=keras.optimizers.Adam(learning_rate=0.001))"
   ]
  },
  {
   "cell_type": "markdown",
   "id": "d314d1c0",
   "metadata": {},
   "source": [
    "#### 3. Model Training"
   ]
  },
  {
   "cell_type": "code",
   "execution_count": 16,
   "id": "b98fcff9",
   "metadata": {
    "scrolled": true
   },
   "outputs": [
    {
     "name": "stdout",
     "output_type": "stream",
     "text": [
      "Epoch 1/150\n",
      "57/57 [==============================] - 1s 4ms/step - loss: 3.2464 - accuracy: 0.4424 - val_loss: 2.3668 - val_accuracy: 0.4330\n",
      "Epoch 2/150\n",
      "57/57 [==============================] - 0s 2ms/step - loss: 1.9432 - accuracy: 0.4770 - val_loss: 1.5893 - val_accuracy: 0.4943\n",
      "Epoch 3/150\n",
      "57/57 [==============================] - 0s 2ms/step - loss: 1.4594 - accuracy: 0.5094 - val_loss: 1.3185 - val_accuracy: 0.5111\n",
      "Epoch 4/150\n",
      "57/57 [==============================] - 0s 2ms/step - loss: 1.2792 - accuracy: 0.5253 - val_loss: 1.2355 - val_accuracy: 0.5088\n",
      "Epoch 5/150\n",
      "57/57 [==============================] - 0s 2ms/step - loss: 1.2104 - accuracy: 0.5294 - val_loss: 1.1671 - val_accuracy: 0.5330\n",
      "Epoch 6/150\n",
      "57/57 [==============================] - 0s 2ms/step - loss: 1.1739 - accuracy: 0.5325 - val_loss: 1.1541 - val_accuracy: 0.5228\n",
      "Epoch 7/150\n",
      "57/57 [==============================] - 0s 2ms/step - loss: 1.1648 - accuracy: 0.5294 - val_loss: 1.1645 - val_accuracy: 0.5348\n",
      "Epoch 8/150\n",
      "57/57 [==============================] - 0s 2ms/step - loss: 1.1543 - accuracy: 0.5381 - val_loss: 1.1223 - val_accuracy: 0.5356\n",
      "Epoch 9/150\n",
      "57/57 [==============================] - 0s 2ms/step - loss: 1.1357 - accuracy: 0.5370 - val_loss: 1.1162 - val_accuracy: 0.5353\n",
      "Epoch 10/150\n",
      "57/57 [==============================] - 0s 2ms/step - loss: 1.1286 - accuracy: 0.5440 - val_loss: 1.1652 - val_accuracy: 0.5049\n",
      "Epoch 11/150\n",
      "57/57 [==============================] - 0s 2ms/step - loss: 1.1224 - accuracy: 0.5461 - val_loss: 1.1032 - val_accuracy: 0.5543\n",
      "Epoch 12/150\n",
      "57/57 [==============================] - 0s 2ms/step - loss: 1.1227 - accuracy: 0.5444 - val_loss: 1.1335 - val_accuracy: 0.5423\n",
      "Epoch 13/150\n",
      "57/57 [==============================] - 0s 2ms/step - loss: 1.1245 - accuracy: 0.5421 - val_loss: 1.0930 - val_accuracy: 0.5493\n",
      "Epoch 14/150\n",
      "57/57 [==============================] - 0s 2ms/step - loss: 1.1111 - accuracy: 0.5497 - val_loss: 1.0952 - val_accuracy: 0.5473\n",
      "Epoch 15/150\n",
      "57/57 [==============================] - 0s 2ms/step - loss: 1.1059 - accuracy: 0.5542 - val_loss: 1.1065 - val_accuracy: 0.5355\n",
      "Epoch 16/150\n",
      "57/57 [==============================] - 0s 3ms/step - loss: 1.1027 - accuracy: 0.5559 - val_loss: 1.0963 - val_accuracy: 0.5399\n",
      "Epoch 17/150\n",
      "57/57 [==============================] - 0s 2ms/step - loss: 1.1059 - accuracy: 0.5525 - val_loss: 1.1137 - val_accuracy: 0.5200\n",
      "Epoch 18/150\n",
      "57/57 [==============================] - 0s 2ms/step - loss: 1.1088 - accuracy: 0.5486 - val_loss: 1.0835 - val_accuracy: 0.5485\n",
      "Epoch 19/150\n",
      "57/57 [==============================] - 0s 2ms/step - loss: 1.0952 - accuracy: 0.5554 - val_loss: 1.0750 - val_accuracy: 0.5610\n",
      "Epoch 20/150\n",
      "57/57 [==============================] - 0s 2ms/step - loss: 1.0982 - accuracy: 0.5525 - val_loss: 1.0832 - val_accuracy: 0.5491\n",
      "Epoch 21/150\n",
      "57/57 [==============================] - 0s 3ms/step - loss: 1.0950 - accuracy: 0.5581 - val_loss: 1.0710 - val_accuracy: 0.5602\n",
      "Epoch 22/150\n",
      "57/57 [==============================] - 0s 2ms/step - loss: 1.0917 - accuracy: 0.5571 - val_loss: 1.0868 - val_accuracy: 0.5597\n",
      "Epoch 23/150\n",
      "57/57 [==============================] - 0s 2ms/step - loss: 1.0992 - accuracy: 0.5515 - val_loss: 1.0773 - val_accuracy: 0.5621\n",
      "Epoch 24/150\n",
      "57/57 [==============================] - 0s 2ms/step - loss: 1.0890 - accuracy: 0.5540 - val_loss: 1.0809 - val_accuracy: 0.5690\n",
      "Epoch 25/150\n",
      "57/57 [==============================] - 0s 2ms/step - loss: 1.0893 - accuracy: 0.5599 - val_loss: 1.0800 - val_accuracy: 0.5535\n",
      "Epoch 26/150\n",
      "57/57 [==============================] - 0s 2ms/step - loss: 1.0917 - accuracy: 0.5548 - val_loss: 1.0991 - val_accuracy: 0.5470\n",
      "Epoch 27/150\n",
      "57/57 [==============================] - 0s 3ms/step - loss: 1.0890 - accuracy: 0.5543 - val_loss: 1.0731 - val_accuracy: 0.5490\n",
      "Epoch 28/150\n",
      "57/57 [==============================] - 0s 2ms/step - loss: 1.0840 - accuracy: 0.5589 - val_loss: 1.0626 - val_accuracy: 0.5675\n",
      "Epoch 29/150\n",
      "57/57 [==============================] - 0s 2ms/step - loss: 1.0827 - accuracy: 0.5605 - val_loss: 1.1108 - val_accuracy: 0.5307\n",
      "Epoch 30/150\n",
      "57/57 [==============================] - 0s 3ms/step - loss: 1.0937 - accuracy: 0.5587 - val_loss: 1.0637 - val_accuracy: 0.5696\n",
      "Epoch 31/150\n",
      "57/57 [==============================] - 0s 3ms/step - loss: 1.0903 - accuracy: 0.5519 - val_loss: 1.0636 - val_accuracy: 0.5660\n",
      "Epoch 32/150\n",
      "57/57 [==============================] - 0s 4ms/step - loss: 1.0811 - accuracy: 0.5599 - val_loss: 1.0635 - val_accuracy: 0.5597\n",
      "Epoch 33/150\n",
      "57/57 [==============================] - 0s 4ms/step - loss: 1.0761 - accuracy: 0.5631 - val_loss: 1.0809 - val_accuracy: 0.5438\n",
      "Epoch 34/150\n",
      "57/57 [==============================] - 0s 3ms/step - loss: 1.0778 - accuracy: 0.5596 - val_loss: 1.0591 - val_accuracy: 0.5722\n",
      "Epoch 35/150\n",
      "57/57 [==============================] - 0s 3ms/step - loss: 1.0820 - accuracy: 0.5583 - val_loss: 1.1018 - val_accuracy: 0.5568\n",
      "Epoch 36/150\n",
      "57/57 [==============================] - 0s 3ms/step - loss: 1.0868 - accuracy: 0.5592 - val_loss: 1.0617 - val_accuracy: 0.5504\n",
      "Epoch 37/150\n",
      "57/57 [==============================] - 0s 3ms/step - loss: 1.0778 - accuracy: 0.5601 - val_loss: 1.0802 - val_accuracy: 0.5397\n",
      "Epoch 38/150\n",
      "57/57 [==============================] - 0s 3ms/step - loss: 1.0870 - accuracy: 0.5550 - val_loss: 1.0975 - val_accuracy: 0.5390\n",
      "Epoch 39/150\n",
      "57/57 [==============================] - 0s 2ms/step - loss: 1.0981 - accuracy: 0.5576 - val_loss: 1.0566 - val_accuracy: 0.5638\n",
      "Epoch 40/150\n",
      "57/57 [==============================] - 0s 2ms/step - loss: 1.0739 - accuracy: 0.5622 - val_loss: 1.0626 - val_accuracy: 0.5688\n",
      "Epoch 41/150\n",
      "57/57 [==============================] - 0s 2ms/step - loss: 1.0717 - accuracy: 0.5633 - val_loss: 1.0717 - val_accuracy: 0.5436\n",
      "Epoch 42/150\n",
      "57/57 [==============================] - 0s 2ms/step - loss: 1.0715 - accuracy: 0.5598 - val_loss: 1.0707 - val_accuracy: 0.5571\n",
      "Epoch 43/150\n",
      "57/57 [==============================] - 0s 3ms/step - loss: 1.0757 - accuracy: 0.5587 - val_loss: 1.0533 - val_accuracy: 0.5615\n",
      "Epoch 44/150\n",
      "57/57 [==============================] - 0s 3ms/step - loss: 1.0693 - accuracy: 0.5631 - val_loss: 1.0576 - val_accuracy: 0.5563\n",
      "Epoch 45/150\n",
      "57/57 [==============================] - 0s 2ms/step - loss: 1.0715 - accuracy: 0.5597 - val_loss: 1.0521 - val_accuracy: 0.5680\n",
      "Epoch 46/150\n",
      "57/57 [==============================] - 0s 2ms/step - loss: 1.0647 - accuracy: 0.5639 - val_loss: 1.0467 - val_accuracy: 0.5704\n",
      "Epoch 47/150\n",
      "57/57 [==============================] - 0s 2ms/step - loss: 1.0717 - accuracy: 0.5618 - val_loss: 1.0604 - val_accuracy: 0.5594\n",
      "Epoch 48/150\n",
      "57/57 [==============================] - 0s 3ms/step - loss: 1.0732 - accuracy: 0.5586 - val_loss: 1.0921 - val_accuracy: 0.5384\n",
      "Epoch 49/150\n",
      "57/57 [==============================] - 0s 3ms/step - loss: 1.0727 - accuracy: 0.5603 - val_loss: 1.0574 - val_accuracy: 0.5568\n",
      "Epoch 50/150\n",
      "57/57 [==============================] - 0s 2ms/step - loss: 1.0665 - accuracy: 0.5626 - val_loss: 1.0500 - val_accuracy: 0.5639\n",
      "Epoch 51/150\n",
      "57/57 [==============================] - 0s 2ms/step - loss: 1.0676 - accuracy: 0.5585 - val_loss: 1.0665 - val_accuracy: 0.5795\n",
      "Epoch 52/150\n",
      "57/57 [==============================] - 0s 2ms/step - loss: 1.0701 - accuracy: 0.5617 - val_loss: 1.0452 - val_accuracy: 0.5774\n",
      "Epoch 53/150\n",
      "57/57 [==============================] - 0s 2ms/step - loss: 1.0665 - accuracy: 0.5637 - val_loss: 1.0608 - val_accuracy: 0.5542\n",
      "Epoch 54/150\n",
      "57/57 [==============================] - 0s 2ms/step - loss: 1.0654 - accuracy: 0.5610 - val_loss: 1.0726 - val_accuracy: 0.5686\n",
      "Epoch 55/150\n",
      "57/57 [==============================] - 0s 2ms/step - loss: 1.0785 - accuracy: 0.5589 - val_loss: 1.1247 - val_accuracy: 0.5475\n",
      "Epoch 56/150\n",
      "57/57 [==============================] - 0s 3ms/step - loss: 1.1091 - accuracy: 0.5508 - val_loss: 1.0498 - val_accuracy: 0.5646\n",
      "Epoch 57/150\n",
      "57/57 [==============================] - 0s 3ms/step - loss: 1.0664 - accuracy: 0.5636 - val_loss: 1.0495 - val_accuracy: 0.5633\n",
      "Epoch 58/150\n",
      "57/57 [==============================] - 0s 2ms/step - loss: 1.0627 - accuracy: 0.5613 - val_loss: 1.0442 - val_accuracy: 0.5706\n"
     ]
    },
    {
     "name": "stdout",
     "output_type": "stream",
     "text": [
      "Epoch 59/150\n",
      "57/57 [==============================] - 0s 2ms/step - loss: 1.0583 - accuracy: 0.5632 - val_loss: 1.0405 - val_accuracy: 0.5672\n",
      "Epoch 60/150\n",
      "57/57 [==============================] - 0s 2ms/step - loss: 1.0601 - accuracy: 0.5604 - val_loss: 1.0444 - val_accuracy: 0.5751\n",
      "Epoch 61/150\n",
      "57/57 [==============================] - 0s 2ms/step - loss: 1.0693 - accuracy: 0.5621 - val_loss: 1.0389 - val_accuracy: 0.5725\n",
      "Epoch 62/150\n",
      "57/57 [==============================] - 0s 2ms/step - loss: 1.0605 - accuracy: 0.5641 - val_loss: 1.0503 - val_accuracy: 0.5626\n",
      "Epoch 63/150\n",
      "57/57 [==============================] - 0s 2ms/step - loss: 1.0651 - accuracy: 0.5595 - val_loss: 1.0437 - val_accuracy: 0.5626\n",
      "Epoch 64/150\n",
      "57/57 [==============================] - 0s 4ms/step - loss: 1.0595 - accuracy: 0.5650 - val_loss: 1.0357 - val_accuracy: 0.5712\n",
      "Epoch 65/150\n",
      "57/57 [==============================] - 0s 4ms/step - loss: 1.0592 - accuracy: 0.5658 - val_loss: 1.0463 - val_accuracy: 0.5764\n",
      "Epoch 66/150\n",
      "57/57 [==============================] - 0s 4ms/step - loss: 1.0585 - accuracy: 0.5669 - val_loss: 1.0486 - val_accuracy: 0.5714\n",
      "Epoch 67/150\n",
      "57/57 [==============================] - 0s 4ms/step - loss: 1.0733 - accuracy: 0.5608 - val_loss: 1.0396 - val_accuracy: 0.5695\n",
      "Epoch 68/150\n",
      "57/57 [==============================] - 0s 4ms/step - loss: 1.0634 - accuracy: 0.5615 - val_loss: 1.0745 - val_accuracy: 0.5512\n",
      "Epoch 69/150\n",
      "57/57 [==============================] - 0s 3ms/step - loss: 1.0617 - accuracy: 0.5651 - val_loss: 1.0508 - val_accuracy: 0.5773\n",
      "Epoch 70/150\n",
      "57/57 [==============================] - 0s 2ms/step - loss: 1.0652 - accuracy: 0.5612 - val_loss: 1.0568 - val_accuracy: 0.5654\n",
      "Epoch 71/150\n",
      "57/57 [==============================] - 0s 2ms/step - loss: 1.0702 - accuracy: 0.5622 - val_loss: 1.0541 - val_accuracy: 0.5563\n",
      "Epoch 72/150\n",
      "57/57 [==============================] - 0s 3ms/step - loss: 1.0610 - accuracy: 0.5635 - val_loss: 1.0370 - val_accuracy: 0.5667\n",
      "Epoch 73/150\n",
      "57/57 [==============================] - 0s 2ms/step - loss: 1.0546 - accuracy: 0.5649 - val_loss: 1.0434 - val_accuracy: 0.5600\n",
      "Epoch 74/150\n",
      "57/57 [==============================] - 0s 2ms/step - loss: 1.0514 - accuracy: 0.5663 - val_loss: 1.0844 - val_accuracy: 0.5379\n",
      "Epoch 75/150\n",
      "57/57 [==============================] - 0s 2ms/step - loss: 1.0799 - accuracy: 0.5546 - val_loss: 1.0473 - val_accuracy: 0.5730\n",
      "Epoch 76/150\n",
      "57/57 [==============================] - 0s 2ms/step - loss: 1.0571 - accuracy: 0.5688 - val_loss: 1.0414 - val_accuracy: 0.5649\n",
      "Epoch 77/150\n",
      "57/57 [==============================] - 0s 3ms/step - loss: 1.0551 - accuracy: 0.5640 - val_loss: 1.0534 - val_accuracy: 0.5520\n",
      "Epoch 78/150\n",
      "57/57 [==============================] - 0s 3ms/step - loss: 1.0683 - accuracy: 0.5512 - val_loss: 1.0394 - val_accuracy: 0.5719\n",
      "Epoch 79/150\n",
      "57/57 [==============================] - 0s 2ms/step - loss: 1.0541 - accuracy: 0.5644 - val_loss: 1.0355 - val_accuracy: 0.5657\n",
      "Epoch 80/150\n",
      "57/57 [==============================] - 0s 2ms/step - loss: 1.0534 - accuracy: 0.5649 - val_loss: 1.0629 - val_accuracy: 0.5446\n",
      "Epoch 81/150\n",
      "57/57 [==============================] - 0s 2ms/step - loss: 1.0579 - accuracy: 0.5637 - val_loss: 1.0558 - val_accuracy: 0.5486\n",
      "Epoch 82/150\n",
      "57/57 [==============================] - 0s 3ms/step - loss: 1.0629 - accuracy: 0.5553 - val_loss: 1.0431 - val_accuracy: 0.5649\n",
      "Epoch 83/150\n",
      "57/57 [==============================] - 0s 2ms/step - loss: 1.0584 - accuracy: 0.5674 - val_loss: 1.0428 - val_accuracy: 0.5774\n",
      "Epoch 84/150\n",
      "57/57 [==============================] - 0s 2ms/step - loss: 1.0674 - accuracy: 0.5628 - val_loss: 1.0540 - val_accuracy: 0.5769\n",
      "Epoch 85/150\n",
      "57/57 [==============================] - 0s 3ms/step - loss: 1.0645 - accuracy: 0.5652 - val_loss: 1.0352 - val_accuracy: 0.5722\n",
      "Epoch 86/150\n",
      "57/57 [==============================] - 0s 2ms/step - loss: 1.0525 - accuracy: 0.5670 - val_loss: 1.0871 - val_accuracy: 0.5350\n",
      "Epoch 87/150\n",
      "57/57 [==============================] - 0s 3ms/step - loss: 1.0611 - accuracy: 0.5619 - val_loss: 1.0429 - val_accuracy: 0.5812\n",
      "Epoch 88/150\n",
      "57/57 [==============================] - 0s 3ms/step - loss: 1.0514 - accuracy: 0.5699 - val_loss: 1.0383 - val_accuracy: 0.5673\n",
      "Epoch 89/150\n",
      "57/57 [==============================] - 0s 3ms/step - loss: 1.0545 - accuracy: 0.5661 - val_loss: 1.0375 - val_accuracy: 0.5758\n",
      "Epoch 90/150\n",
      "57/57 [==============================] - 0s 3ms/step - loss: 1.0550 - accuracy: 0.5653 - val_loss: 1.0418 - val_accuracy: 0.5634\n",
      "Epoch 91/150\n",
      "57/57 [==============================] - 0s 3ms/step - loss: 1.0520 - accuracy: 0.5661 - val_loss: 1.0443 - val_accuracy: 0.5691\n",
      "Epoch 92/150\n",
      "57/57 [==============================] - 0s 3ms/step - loss: 1.0521 - accuracy: 0.5652 - val_loss: 1.0402 - val_accuracy: 0.5678\n",
      "Epoch 93/150\n",
      "57/57 [==============================] - 0s 3ms/step - loss: 1.0494 - accuracy: 0.5665 - val_loss: 1.0301 - val_accuracy: 0.5727\n",
      "Epoch 94/150\n",
      "57/57 [==============================] - 0s 3ms/step - loss: 1.0500 - accuracy: 0.5648 - val_loss: 1.0382 - val_accuracy: 0.5769\n",
      "Epoch 95/150\n",
      "57/57 [==============================] - 0s 3ms/step - loss: 1.0518 - accuracy: 0.5679 - val_loss: 1.0680 - val_accuracy: 0.5425\n",
      "Epoch 96/150\n",
      "57/57 [==============================] - 0s 3ms/step - loss: 1.0536 - accuracy: 0.5649 - val_loss: 1.0897 - val_accuracy: 0.5416\n",
      "Epoch 97/150\n",
      "57/57 [==============================] - 0s 4ms/step - loss: 1.0567 - accuracy: 0.5631 - val_loss: 1.0386 - val_accuracy: 0.5613\n",
      "Epoch 98/150\n",
      "57/57 [==============================] - 0s 3ms/step - loss: 1.0516 - accuracy: 0.5649 - val_loss: 1.0305 - val_accuracy: 0.5773\n",
      "Epoch 99/150\n",
      "57/57 [==============================] - 0s 3ms/step - loss: 1.0487 - accuracy: 0.5691 - val_loss: 1.0502 - val_accuracy: 0.5683\n",
      "Epoch 100/150\n",
      "57/57 [==============================] - 0s 3ms/step - loss: 1.0692 - accuracy: 0.5586 - val_loss: 1.0460 - val_accuracy: 0.5709\n",
      "Epoch 101/150\n",
      "57/57 [==============================] - 0s 3ms/step - loss: 1.0604 - accuracy: 0.5641 - val_loss: 1.0342 - val_accuracy: 0.5734\n",
      "Epoch 102/150\n",
      "57/57 [==============================] - 0s 3ms/step - loss: 1.0504 - accuracy: 0.5658 - val_loss: 1.0498 - val_accuracy: 0.5542\n",
      "Epoch 103/150\n",
      "57/57 [==============================] - 0s 2ms/step - loss: 1.0535 - accuracy: 0.5662 - val_loss: 1.0451 - val_accuracy: 0.5725\n",
      "Epoch 104/150\n",
      "57/57 [==============================] - 0s 2ms/step - loss: 1.0565 - accuracy: 0.5661 - val_loss: 1.0358 - val_accuracy: 0.5730\n",
      "Epoch 105/150\n",
      "57/57 [==============================] - 0s 4ms/step - loss: 1.0532 - accuracy: 0.5675 - val_loss: 1.0372 - val_accuracy: 0.5654\n",
      "Epoch 106/150\n",
      "57/57 [==============================] - 0s 3ms/step - loss: 1.0477 - accuracy: 0.5661 - val_loss: 1.0830 - val_accuracy: 0.5576\n",
      "Epoch 107/150\n",
      "57/57 [==============================] - 0s 3ms/step - loss: 1.0741 - accuracy: 0.5556 - val_loss: 1.0425 - val_accuracy: 0.5594\n",
      "Epoch 108/150\n",
      "57/57 [==============================] - 0s 3ms/step - loss: 1.0537 - accuracy: 0.5660 - val_loss: 1.0410 - val_accuracy: 0.5548\n",
      "Epoch 109/150\n",
      "57/57 [==============================] - 0s 3ms/step - loss: 1.0486 - accuracy: 0.5685 - val_loss: 1.0611 - val_accuracy: 0.5553\n",
      "Epoch 110/150\n",
      "57/57 [==============================] - 0s 2ms/step - loss: 1.0728 - accuracy: 0.5621 - val_loss: 1.0367 - val_accuracy: 0.5781\n",
      "Epoch 111/150\n",
      "57/57 [==============================] - 0s 2ms/step - loss: 1.0476 - accuracy: 0.5682 - val_loss: 1.0303 - val_accuracy: 0.5695\n",
      "Epoch 112/150\n",
      "57/57 [==============================] - 0s 2ms/step - loss: 1.0472 - accuracy: 0.5635 - val_loss: 1.0346 - val_accuracy: 0.5764\n",
      "Epoch 113/150\n",
      "57/57 [==============================] - 0s 2ms/step - loss: 1.0519 - accuracy: 0.5656 - val_loss: 1.0469 - val_accuracy: 0.5514\n",
      "Epoch 114/150\n",
      "57/57 [==============================] - 0s 3ms/step - loss: 1.0510 - accuracy: 0.5669 - val_loss: 1.0330 - val_accuracy: 0.5764\n",
      "Epoch 115/150\n",
      "57/57 [==============================] - 0s 2ms/step - loss: 1.0450 - accuracy: 0.5684 - val_loss: 1.0432 - val_accuracy: 0.5568\n",
      "Epoch 116/150\n"
     ]
    },
    {
     "name": "stdout",
     "output_type": "stream",
     "text": [
      "57/57 [==============================] - 0s 2ms/step - loss: 1.0469 - accuracy: 0.5659 - val_loss: 1.0255 - val_accuracy: 0.5711\n",
      "Epoch 117/150\n",
      "57/57 [==============================] - 0s 3ms/step - loss: 1.0445 - accuracy: 0.5697 - val_loss: 1.0237 - val_accuracy: 0.5787\n",
      "Epoch 118/150\n",
      "57/57 [==============================] - 0s 2ms/step - loss: 1.0499 - accuracy: 0.5672 - val_loss: 1.0905 - val_accuracy: 0.5379\n",
      "Epoch 119/150\n",
      "57/57 [==============================] - 0s 2ms/step - loss: 1.0571 - accuracy: 0.5670 - val_loss: 1.0265 - val_accuracy: 0.5721\n",
      "Epoch 120/150\n",
      "57/57 [==============================] - 0s 2ms/step - loss: 1.0504 - accuracy: 0.5687 - val_loss: 1.0468 - val_accuracy: 0.5597\n",
      "Epoch 121/150\n",
      "57/57 [==============================] - 0s 3ms/step - loss: 1.0487 - accuracy: 0.5669 - val_loss: 1.0250 - val_accuracy: 0.5768\n",
      "Epoch 122/150\n",
      "57/57 [==============================] - 0s 3ms/step - loss: 1.0442 - accuracy: 0.5690 - val_loss: 1.0274 - val_accuracy: 0.5779\n",
      "Epoch 123/150\n",
      "57/57 [==============================] - 0s 3ms/step - loss: 1.0486 - accuracy: 0.5669 - val_loss: 1.0315 - val_accuracy: 0.5755\n",
      "Epoch 124/150\n",
      "57/57 [==============================] - 0s 3ms/step - loss: 1.0477 - accuracy: 0.5641 - val_loss: 1.0272 - val_accuracy: 0.5735\n",
      "Epoch 125/150\n",
      "57/57 [==============================] - 0s 3ms/step - loss: 1.0521 - accuracy: 0.5665 - val_loss: 1.0333 - val_accuracy: 0.5704\n",
      "Epoch 126/150\n",
      "57/57 [==============================] - 0s 3ms/step - loss: 1.0559 - accuracy: 0.5631 - val_loss: 1.0247 - val_accuracy: 0.5774\n",
      "Epoch 127/150\n",
      "57/57 [==============================] - 0s 4ms/step - loss: 1.0454 - accuracy: 0.5679 - val_loss: 1.0277 - val_accuracy: 0.5802\n",
      "Epoch 128/150\n",
      "57/57 [==============================] - 0s 4ms/step - loss: 1.0479 - accuracy: 0.5711 - val_loss: 1.0376 - val_accuracy: 0.5688\n",
      "Epoch 129/150\n",
      "57/57 [==============================] - 0s 4ms/step - loss: 1.0492 - accuracy: 0.5612 - val_loss: 1.0390 - val_accuracy: 0.5579\n",
      "Epoch 130/150\n",
      "57/57 [==============================] - 0s 4ms/step - loss: 1.0521 - accuracy: 0.5628 - val_loss: 1.0278 - val_accuracy: 0.5721\n",
      "Epoch 131/150\n",
      "57/57 [==============================] - 0s 3ms/step - loss: 1.0476 - accuracy: 0.5623 - val_loss: 1.0330 - val_accuracy: 0.5709\n",
      "Epoch 132/150\n",
      "57/57 [==============================] - 0s 4ms/step - loss: 1.0427 - accuracy: 0.5691 - val_loss: 1.0421 - val_accuracy: 0.5551\n",
      "Epoch 133/150\n",
      "57/57 [==============================] - 0s 3ms/step - loss: 1.0482 - accuracy: 0.5627 - val_loss: 1.0282 - val_accuracy: 0.5704\n",
      "Epoch 134/150\n",
      "57/57 [==============================] - 0s 3ms/step - loss: 1.0529 - accuracy: 0.5631 - val_loss: 1.0334 - val_accuracy: 0.5760\n",
      "Epoch 135/150\n",
      "57/57 [==============================] - 0s 4ms/step - loss: 1.0510 - accuracy: 0.5640 - val_loss: 1.0280 - val_accuracy: 0.5789\n",
      "Epoch 136/150\n",
      "57/57 [==============================] - 0s 4ms/step - loss: 1.0437 - accuracy: 0.5709 - val_loss: 1.0268 - val_accuracy: 0.5771\n",
      "Epoch 137/150\n",
      "57/57 [==============================] - 0s 3ms/step - loss: 1.0447 - accuracy: 0.5692 - val_loss: 1.0357 - val_accuracy: 0.5821\n",
      "Epoch 138/150\n",
      "57/57 [==============================] - 0s 2ms/step - loss: 1.0475 - accuracy: 0.5663 - val_loss: 1.0227 - val_accuracy: 0.5763\n",
      "Epoch 139/150\n",
      "57/57 [==============================] - 0s 3ms/step - loss: 1.0476 - accuracy: 0.5677 - val_loss: 1.0394 - val_accuracy: 0.5714\n",
      "Epoch 140/150\n",
      "57/57 [==============================] - 0s 3ms/step - loss: 1.0475 - accuracy: 0.5668 - val_loss: 1.0470 - val_accuracy: 0.5595\n",
      "Epoch 141/150\n",
      "57/57 [==============================] - 0s 3ms/step - loss: 1.0450 - accuracy: 0.5652 - val_loss: 1.0269 - val_accuracy: 0.5795\n",
      "Epoch 142/150\n",
      "57/57 [==============================] - 0s 3ms/step - loss: 1.0461 - accuracy: 0.5676 - val_loss: 1.0294 - val_accuracy: 0.5655\n",
      "Epoch 143/150\n",
      "57/57 [==============================] - 0s 3ms/step - loss: 1.0536 - accuracy: 0.5675 - val_loss: 1.0441 - val_accuracy: 0.5602\n",
      "Epoch 144/150\n",
      "57/57 [==============================] - 0s 3ms/step - loss: 1.0477 - accuracy: 0.5692 - val_loss: 1.0558 - val_accuracy: 0.5628\n",
      "Epoch 145/150\n",
      "57/57 [==============================] - 0s 3ms/step - loss: 1.0453 - accuracy: 0.5678 - val_loss: 1.0486 - val_accuracy: 0.5660\n",
      "Epoch 146/150\n",
      "57/57 [==============================] - 0s 2ms/step - loss: 1.0448 - accuracy: 0.5711 - val_loss: 1.0281 - val_accuracy: 0.5677\n",
      "Epoch 147/150\n",
      "57/57 [==============================] - 0s 2ms/step - loss: 1.0469 - accuracy: 0.5682 - val_loss: 1.0322 - val_accuracy: 0.5651\n",
      "Epoch 148/150\n",
      "57/57 [==============================] - 0s 2ms/step - loss: 1.0485 - accuracy: 0.5631 - val_loss: 1.0280 - val_accuracy: 0.5808\n",
      "Epoch 149/150\n",
      "57/57 [==============================] - 0s 2ms/step - loss: 1.0427 - accuracy: 0.5642 - val_loss: 1.0261 - val_accuracy: 0.5795\n",
      "Epoch 150/150\n",
      "57/57 [==============================] - 0s 2ms/step - loss: 1.0488 - accuracy: 0.5659 - val_loss: 1.0240 - val_accuracy: 0.5748\n",
      "Wall time: 23.6 s\n"
     ]
    }
   ],
   "source": [
    "%%time\n",
    "callback4 = TimingCallback()\n",
    "history4 = model4.fit(X_train, y_train, epochs=150, batch_size=256, validation_data=(X_test, y_test), callbacks=[callback4])"
   ]
  },
  {
   "cell_type": "code",
   "execution_count": 17,
   "id": "945b478a",
   "metadata": {},
   "outputs": [
    {
     "name": "stdout",
     "output_type": "stream",
     "text": [
      "<-------------Model Loss Graph------------->\n"
     ]
    },
    {
     "data": {
      "image/png": "[encoded data removed]",
      "text/plain": [
       "<Figure size 432x288 with 1 Axes>"
      ]
     },
     "metadata": {
      "needs_background": "light"
     },
     "output_type": "display_data"
    },
    {
     "name": "stdout",
     "output_type": "stream",
     "text": [
      "<-------------Model Accuracy Graph------------->\n"
     ]
    },
    {
     "data": {
      "image/png": "[encoded data removed]",
      "text/plain": [
       "<Figure size 432x288 with 1 Axes>"
      ]
     },
     "metadata": {
      "needs_background": "light"
     },
     "output_type": "display_data"
    },
    {
     "name": "stdout",
     "output_type": "stream",
     "text": [
      "Wall time: 269 ms\n"
     ]
    }
   ],
   "source": [
    "%%time\n",
    "print('<-------------Model Loss Graph------------->')\n",
    "plot_model_loss(history4)\n",
    "\n",
    "print('<-------------Model Accuracy Graph------------->')\n",
    "plot_model_accuracy(history4)"
   ]
  },
  {
   "cell_type": "code",
   "execution_count": 18,
   "id": "0e7c92c8",
   "metadata": {
    "scrolled": false
   },
   "outputs": [
    {
     "name": "stdout",
     "output_type": "stream",
     "text": [
      "Total time taken in training the model: 23.41 seconds\n",
      "Wall time: 998 µs\n"
     ]
    }
   ],
   "source": [
    "%%time\n",
    "print('Total time taken in training the model: %.2f seconds' % (sum(callback4.logs)))"
   ]
  },
  {
   "cell_type": "markdown",
   "id": "67a6377e",
   "metadata": {},
   "source": [
    "#### 4. Model Evaluation"
   ]
  },
  {
   "cell_type": "code",
   "execution_count": 19,
   "id": "373ece3e",
   "metadata": {
    "scrolled": false
   },
   "outputs": [
    {
     "name": "stdout",
     "output_type": "stream",
     "text": [
      "193/193 [==============================] - 0s 665us/step - loss: 1.0240 - accuracy: 0.5748\n",
      "\n",
      "Test accuracy = 0.5748210549354553 \n",
      "loss - 1.0240286588668823\n",
      "\n",
      "\n",
      "Classification Report\n",
      "               precision    recall  f1-score   support\n",
      "\n",
      "           0       0.58      0.70      0.63       432\n",
      "           1       0.37      0.40      0.38       523\n",
      "           2       0.42      0.07      0.11       645\n",
      "           3       0.48      0.39      0.43      1887\n",
      "           4       0.65      0.84      0.74      2661\n",
      "\n",
      "    accuracy                           0.57      6148\n",
      "   macro avg       0.50      0.48      0.46      6148\n",
      "weighted avg       0.55      0.57      0.54      6148\n",
      "\n",
      "=====================================================\n",
      "\n",
      "Confusion Matrix Display\n"
     ]
    },
    {
     "data": {
      "image/png": "[encoded data removed]",
      "text/plain": [
       "<Figure size 432x288 with 2 Axes>"
      ]
     },
     "metadata": {
      "needs_background": "light"
     },
     "output_type": "display_data"
    },
    {
     "name": "stdout",
     "output_type": "stream",
     "text": [
      "Wall time: 540 ms\n"
     ]
    }
   ],
   "source": [
    "%%time\n",
    "loss4, acc4 = model4.evaluate(X_test, y_test)\n",
    "print('\\nTest accuracy = {} \\nloss - {}\\n'.format(acc4, loss4))\n",
    "y_pred4 = np.argmax(model4.predict(X_test), axis=-1)\n",
    "cm4 = classification_report(inverse_transformed_y_test, y_pred4)\n",
    "print('\\nClassification Report\\n', cm4)\n",
    "print('=====================================================\\n')\n",
    "confusion_matrix4 = confusion_matrix(inverse_transformed_y_test, y_pred4)\n",
    "print('Confusion Matrix Display')\n",
    "disp = ConfusionMatrixDisplay(confusion_matrix=confusion_matrix4, display_labels=[0, 1, 2, 3, 4])\n",
    "disp.plot()\n",
    "plt.show()"
   ]
  },
  {
   "cell_type": "code",
   "execution_count": 20,
   "id": "0fc9e77e",
   "metadata": {},
   "outputs": [
    {
     "name": "stdout",
     "output_type": "stream",
     "text": [
      "Wall time: 0 ns\n"
     ]
    }
   ],
   "source": [
    "%%time\n",
    "q1_model_comparision.append(['Model-1', loss4, acc4])"
   ]
  },
  {
   "cell_type": "code",
   "execution_count": 21,
   "id": "acc9a7d9",
   "metadata": {
    "scrolled": true
   },
   "outputs": [
    {
     "name": "stdout",
     "output_type": "stream",
     "text": [
      "Wall time: 2.99 ms\n"
     ]
    },
    {
     "data": {
      "text/html": [
       "<div>\n",
       "<style scoped>\n",
       "    .dataframe tbody tr th:only-of-type {\n",
       "        vertical-align: middle;\n",
       "    }\n",
       "\n",
       "    .dataframe tbody tr th {\n",
       "        vertical-align: top;\n",
       "    }\n",
       "\n",
       "    .dataframe thead th {\n",
       "        text-align: right;\n",
       "    }\n",
       "</style>\n",
       "<table border=\"1\" class=\"dataframe\">\n",
       "  <thead>\n",
       "    <tr style=\"text-align: right;\">\n",
       "      <th></th>\n",
       "      <th>Rating</th>\n",
       "      <th>Correct</th>\n",
       "      <th>Correct_Perc</th>\n",
       "      <th>Incorrect</th>\n",
       "      <th>InCorrect_Perc</th>\n",
       "    </tr>\n",
       "  </thead>\n",
       "  <tbody>\n",
       "    <tr>\n",
       "      <th>0</th>\n",
       "      <td>1</td>\n",
       "      <td>302</td>\n",
       "      <td>69.91%</td>\n",
       "      <td>130</td>\n",
       "      <td>30.09%</td>\n",
       "    </tr>\n",
       "    <tr>\n",
       "      <th>1</th>\n",
       "      <td>2</td>\n",
       "      <td>207</td>\n",
       "      <td>39.58%</td>\n",
       "      <td>316</td>\n",
       "      <td>60.42%</td>\n",
       "    </tr>\n",
       "    <tr>\n",
       "      <th>2</th>\n",
       "      <td>3</td>\n",
       "      <td>42</td>\n",
       "      <td>6.51%</td>\n",
       "      <td>603</td>\n",
       "      <td>93.49%</td>\n",
       "    </tr>\n",
       "    <tr>\n",
       "      <th>3</th>\n",
       "      <td>4</td>\n",
       "      <td>737</td>\n",
       "      <td>39.06%</td>\n",
       "      <td>1150</td>\n",
       "      <td>60.94%</td>\n",
       "    </tr>\n",
       "    <tr>\n",
       "      <th>4</th>\n",
       "      <td>5</td>\n",
       "      <td>2246</td>\n",
       "      <td>84.4%</td>\n",
       "      <td>415</td>\n",
       "      <td>15.6%</td>\n",
       "    </tr>\n",
       "  </tbody>\n",
       "</table>\n",
       "</div>"
      ],
      "text/plain": [
       "   Rating  Correct Correct_Perc  Incorrect InCorrect_Perc\n",
       "0       1      302       69.91%        130         30.09%\n",
       "1       2      207       39.58%        316         60.42%\n",
       "2       3       42        6.51%        603         93.49%\n",
       "3       4      737       39.06%       1150         60.94%\n",
       "4       5     2246        84.4%        415          15.6%"
      ]
     },
     "execution_count": 21,
     "metadata": {},
     "output_type": "execute_result"
    }
   ],
   "source": [
    "%%time\n",
    "calculate_total_correct_incorrect_prediction(confusion_matrix4)"
   ]
  },
  {
   "cell_type": "code",
   "execution_count": 22,
   "id": "5112a16d",
   "metadata": {},
   "outputs": [
    {
     "name": "stdout",
     "output_type": "stream",
     "text": [
      "Based on the above classification report, the model classified class label '5' records the best with accuracy of 87% while the worst performing class label '3' with accuracy of merely 20%\n",
      "Wall time: 0 ns\n"
     ]
    }
   ],
   "source": [
    "%%time\n",
    "print(\"Based on the above classification report, the model classified class label '5' records the best with accuracy of 87% while the worst performing class label '3' with accuracy of merely 20%\")"
   ]
  },
  {
   "cell_type": "code",
   "execution_count": 23,
   "id": "18a0a7de",
   "metadata": {},
   "outputs": [],
   "source": [
    "#==============================================================================\n",
    "# Two most incorrectly classified records for each class in the test dataset.\n",
    "#==============================================================================\n",
    "\n",
    "# for i in range(1,6):  \n",
    "#     count =0\n",
    "#     for index, input, prediction, label in zip(enumerate(X_test), X_test, y_pred4, inverse_transformed_y_test):\n",
    "#         print(index, input, prediction, label)\n",
    "#         if prediction != label and count<10:\n",
    "#             print(', has been classified as', prediction, 'and should be', label) \n",
    "#             count=count+1"
   ]
  },
  {
   "cell_type": "markdown",
   "id": "660e3881",
   "metadata": {},
   "source": [
    "## Hyperparameter tuning\n",
    "### Model 2 (Without Regularization)\n",
    "#### 1. Model Building\n",
    "The model is build with sequential model having 3 hidden layers. Having 128 nodes in first hidden layer, 64 nodes in second hidden layer and 64 in the third layer. We noticed that the model was training well with the less number of the nodes since we have a good amount of data. Hence with many Experimental configuration, this was one which was giving the top results."
   ]
  },
  {
   "cell_type": "code",
   "execution_count": 24,
   "id": "9afa4efd",
   "metadata": {},
   "outputs": [
    {
     "name": "stdout",
     "output_type": "stream",
     "text": [
      "Model: \"Model-5\"\n",
      "_________________________________________________________________\n",
      "Layer (type)                 Output Shape              Param #   \n",
      "=================================================================\n",
      "dense_4 (Dense)              (None, 128)               16512     \n",
      "_________________________________________________________________\n",
      "dropout_1 (Dropout)          (None, 128)               0         \n",
      "_________________________________________________________________\n",
      "dense_5 (Dense)              (None, 64)                8256      \n",
      "_________________________________________________________________\n",
      "dense_6 (Dense)              (None, 64)                4160      \n",
      "_________________________________________________________________\n",
      "dense_7 (Dense)              (None, 5)                 325       \n",
      "=================================================================\n",
      "Total params: 29,253\n",
      "Trainable params: 29,253\n",
      "Non-trainable params: 0\n",
      "_________________________________________________________________\n",
      "Wall time: 29.9 ms\n"
     ]
    }
   ],
   "source": [
    "%%time\n",
    "model5 = keras.Sequential(name = 'Model-5')\n",
    "model5.add(layers.InputLayer(input_shape=(128,)))\n",
    "\n",
    "model5.add(layers.Dense(128, activation='relu'))\n",
    "model5.add(layers.Dropout(0.1))\n",
    "model5.add(layers.Dense(64, activation='relu'))\n",
    "model5.add(layers.Dense(64, activation='relu'))\n",
    "\n",
    "model5.add(layers.Dense(5, activation='softmax'))\n",
    "\n",
    "model5.summary()"
   ]
  },
  {
   "cell_type": "markdown",
   "id": "6ce75cf8",
   "metadata": {},
   "source": [
    "#### 2. Model Compilation"
   ]
  },
  {
   "cell_type": "code",
   "execution_count": 25,
   "id": "a8f5921f",
   "metadata": {},
   "outputs": [
    {
     "name": "stdout",
     "output_type": "stream",
     "text": [
      "Wall time: 4.99 ms\n"
     ]
    }
   ],
   "source": [
    "%%time\n",
    "model5.compile(loss='categorical_crossentropy', metrics=['accuracy'], optimizer=keras.optimizers.Adam(learning_rate=0.001))"
   ]
  },
  {
   "cell_type": "markdown",
   "id": "b0b0d04a",
   "metadata": {},
   "source": [
    "#### 3. Model Training"
   ]
  },
  {
   "cell_type": "code",
   "execution_count": 26,
   "id": "e7ec891c",
   "metadata": {},
   "outputs": [
    {
     "name": "stdout",
     "output_type": "stream",
     "text": [
      "Epoch 1/150\n",
      "57/57 [==============================] - 1s 5ms/step - loss: 1.2511 - accuracy: 0.4588 - val_loss: 1.0581 - val_accuracy: 0.5023\n",
      "Epoch 2/150\n",
      "57/57 [==============================] - 0s 3ms/step - loss: 1.0356 - accuracy: 0.5389 - val_loss: 0.9948 - val_accuracy: 0.5534\n",
      "Epoch 3/150\n",
      "57/57 [==============================] - 0s 4ms/step - loss: 0.9925 - accuracy: 0.5574 - val_loss: 0.9986 - val_accuracy: 0.5384\n",
      "Epoch 4/150\n",
      "57/57 [==============================] - 0s 4ms/step - loss: 0.9807 - accuracy: 0.5647 - val_loss: 0.9712 - val_accuracy: 0.5608\n",
      "Epoch 5/150\n",
      "57/57 [==============================] - 0s 4ms/step - loss: 0.9631 - accuracy: 0.5707 - val_loss: 0.9561 - val_accuracy: 0.5649\n",
      "Epoch 6/150\n",
      "57/57 [==============================] - 0s 4ms/step - loss: 0.9553 - accuracy: 0.5763 - val_loss: 0.9516 - val_accuracy: 0.5701\n",
      "Epoch 7/150\n",
      "57/57 [==============================] - 0s 3ms/step - loss: 0.9445 - accuracy: 0.5800 - val_loss: 0.9617 - val_accuracy: 0.5623\n",
      "Epoch 8/150\n",
      "57/57 [==============================] - 0s 3ms/step - loss: 0.9381 - accuracy: 0.5890 - val_loss: 0.9487 - val_accuracy: 0.5737\n",
      "Epoch 9/150\n",
      "57/57 [==============================] - 0s 2ms/step - loss: 0.9325 - accuracy: 0.5850 - val_loss: 0.9470 - val_accuracy: 0.5735\n",
      "Epoch 10/150\n",
      "57/57 [==============================] - 0s 3ms/step - loss: 0.9284 - accuracy: 0.5916 - val_loss: 0.9467 - val_accuracy: 0.5659\n",
      "Epoch 11/150\n",
      "57/57 [==============================] - 0s 3ms/step - loss: 0.9257 - accuracy: 0.5887 - val_loss: 0.9708 - val_accuracy: 0.5636\n",
      "Epoch 12/150\n",
      "57/57 [==============================] - 0s 2ms/step - loss: 0.9190 - accuracy: 0.5928 - val_loss: 0.9419 - val_accuracy: 0.5836\n",
      "Epoch 13/150\n",
      "57/57 [==============================] - 0s 2ms/step - loss: 0.9139 - accuracy: 0.5966 - val_loss: 0.9399 - val_accuracy: 0.5873\n",
      "Epoch 14/150\n",
      "57/57 [==============================] - 0s 2ms/step - loss: 0.8987 - accuracy: 0.6058 - val_loss: 0.9442 - val_accuracy: 0.5789\n",
      "Epoch 15/150\n",
      "57/57 [==============================] - 0s 2ms/step - loss: 0.8958 - accuracy: 0.6085 - val_loss: 0.9397 - val_accuracy: 0.5779\n",
      "Epoch 16/150\n",
      "57/57 [==============================] - 0s 3ms/step - loss: 0.8922 - accuracy: 0.6078 - val_loss: 0.9397 - val_accuracy: 0.5834\n",
      "Epoch 17/150\n",
      "57/57 [==============================] - 0s 2ms/step - loss: 0.8839 - accuracy: 0.6146 - val_loss: 0.9386 - val_accuracy: 0.5823\n",
      "Epoch 18/150\n",
      "57/57 [==============================] - 0s 2ms/step - loss: 0.8772 - accuracy: 0.6169 - val_loss: 0.9452 - val_accuracy: 0.5804\n",
      "Epoch 19/150\n",
      "57/57 [==============================] - 0s 2ms/step - loss: 0.8741 - accuracy: 0.6142 - val_loss: 0.9557 - val_accuracy: 0.5711\n",
      "Epoch 20/150\n",
      "57/57 [==============================] - 0s 2ms/step - loss: 0.8630 - accuracy: 0.6203 - val_loss: 0.9517 - val_accuracy: 0.5755\n",
      "Epoch 21/150\n",
      "57/57 [==============================] - 0s 2ms/step - loss: 0.8597 - accuracy: 0.6216 - val_loss: 0.9489 - val_accuracy: 0.5758\n",
      "Epoch 22/150\n",
      "57/57 [==============================] - 0s 2ms/step - loss: 0.8520 - accuracy: 0.6269 - val_loss: 0.9583 - val_accuracy: 0.5756\n",
      "Epoch 23/150\n",
      "57/57 [==============================] - 0s 2ms/step - loss: 0.8443 - accuracy: 0.6272 - val_loss: 0.9560 - val_accuracy: 0.5761\n",
      "Epoch 24/150\n",
      "57/57 [==============================] - 0s 2ms/step - loss: 0.8374 - accuracy: 0.6315 - val_loss: 0.9630 - val_accuracy: 0.5760\n",
      "Epoch 25/150\n",
      "57/57 [==============================] - 0s 3ms/step - loss: 0.8351 - accuracy: 0.6365 - val_loss: 0.9697 - val_accuracy: 0.5719\n",
      "Epoch 26/150\n",
      "57/57 [==============================] - 0s 3ms/step - loss: 0.8345 - accuracy: 0.6367 - val_loss: 0.9786 - val_accuracy: 0.5709\n",
      "Epoch 27/150\n",
      "57/57 [==============================] - 0s 2ms/step - loss: 0.8349 - accuracy: 0.6296 - val_loss: 0.9754 - val_accuracy: 0.5660\n",
      "Epoch 28/150\n",
      "57/57 [==============================] - 0s 2ms/step - loss: 0.8167 - accuracy: 0.6416 - val_loss: 0.9805 - val_accuracy: 0.5748\n",
      "Epoch 29/150\n",
      "57/57 [==============================] - 0s 2ms/step - loss: 0.8102 - accuracy: 0.6477 - val_loss: 1.0074 - val_accuracy: 0.5569\n",
      "Epoch 30/150\n",
      "57/57 [==============================] - 0s 3ms/step - loss: 0.8039 - accuracy: 0.6538 - val_loss: 0.9843 - val_accuracy: 0.5725\n",
      "Epoch 31/150\n",
      "57/57 [==============================] - 0s 2ms/step - loss: 0.8016 - accuracy: 0.6523 - val_loss: 0.9877 - val_accuracy: 0.5629\n",
      "Epoch 32/150\n",
      "57/57 [==============================] - 0s 2ms/step - loss: 0.7882 - accuracy: 0.6552 - val_loss: 0.9965 - val_accuracy: 0.5641\n",
      "Epoch 33/150\n",
      "57/57 [==============================] - 0s 3ms/step - loss: 0.7921 - accuracy: 0.6534 - val_loss: 0.9954 - val_accuracy: 0.5633\n",
      "Epoch 34/150\n",
      "57/57 [==============================] - 0s 3ms/step - loss: 0.7737 - accuracy: 0.6666 - val_loss: 1.0121 - val_accuracy: 0.5584\n",
      "Epoch 35/150\n",
      "57/57 [==============================] - 0s 3ms/step - loss: 0.7802 - accuracy: 0.6585 - val_loss: 1.0283 - val_accuracy: 0.5576\n",
      "Epoch 36/150\n",
      "57/57 [==============================] - 0s 4ms/step - loss: 0.7635 - accuracy: 0.6697 - val_loss: 1.0220 - val_accuracy: 0.5600\n",
      "Epoch 37/150\n",
      "57/57 [==============================] - 0s 3ms/step - loss: 0.7581 - accuracy: 0.6702 - val_loss: 1.0390 - val_accuracy: 0.5634\n",
      "Epoch 38/150\n",
      "57/57 [==============================] - 0s 3ms/step - loss: 0.7519 - accuracy: 0.6776 - val_loss: 1.0361 - val_accuracy: 0.5548\n",
      "Epoch 39/150\n",
      "57/57 [==============================] - 0s 4ms/step - loss: 0.7393 - accuracy: 0.6802 - val_loss: 1.0502 - val_accuracy: 0.5519\n",
      "Epoch 40/150\n",
      "57/57 [==============================] - 0s 4ms/step - loss: 0.7545 - accuracy: 0.6748 - val_loss: 1.0432 - val_accuracy: 0.5538\n",
      "Epoch 41/150\n",
      "57/57 [==============================] - 0s 3ms/step - loss: 0.7391 - accuracy: 0.6847 - val_loss: 1.0854 - val_accuracy: 0.5496\n",
      "Epoch 42/150\n",
      "57/57 [==============================] - 0s 3ms/step - loss: 0.7467 - accuracy: 0.6769 - val_loss: 1.0595 - val_accuracy: 0.5477\n",
      "Epoch 43/150\n",
      "57/57 [==============================] - 0s 3ms/step - loss: 0.7304 - accuracy: 0.6810 - val_loss: 1.0710 - val_accuracy: 0.5519\n",
      "Epoch 44/150\n",
      "57/57 [==============================] - 0s 4ms/step - loss: 0.7354 - accuracy: 0.6823 - val_loss: 1.0589 - val_accuracy: 0.5538\n",
      "Epoch 45/150\n",
      "57/57 [==============================] - 0s 3ms/step - loss: 0.7076 - accuracy: 0.6979 - val_loss: 1.0757 - val_accuracy: 0.5509\n",
      "Epoch 46/150\n",
      "57/57 [==============================] - 0s 3ms/step - loss: 0.7033 - accuracy: 0.6941 - val_loss: 1.0880 - val_accuracy: 0.5494\n",
      "Epoch 47/150\n",
      "57/57 [==============================] - 0s 3ms/step - loss: 0.6934 - accuracy: 0.7009 - val_loss: 1.1044 - val_accuracy: 0.5491\n",
      "Epoch 48/150\n",
      "57/57 [==============================] - 0s 4ms/step - loss: 0.6874 - accuracy: 0.7050 - val_loss: 1.1083 - val_accuracy: 0.5449\n",
      "Epoch 49/150\n",
      "57/57 [==============================] - 0s 2ms/step - loss: 0.6772 - accuracy: 0.7128 - val_loss: 1.1385 - val_accuracy: 0.5402\n",
      "Epoch 50/150\n",
      "57/57 [==============================] - 0s 2ms/step - loss: 0.7027 - accuracy: 0.7036 - val_loss: 1.1223 - val_accuracy: 0.5499\n",
      "Epoch 51/150\n",
      "57/57 [==============================] - ETA: 0s - loss: 0.6943 - accuracy: 0.70 - 0s 2ms/step - loss: 0.6867 - accuracy: 0.7075 - val_loss: 1.1223 - val_accuracy: 0.5483\n",
      "Epoch 52/150\n",
      "57/57 [==============================] - 0s 2ms/step - loss: 0.6679 - accuracy: 0.7127 - val_loss: 1.1421 - val_accuracy: 0.5464\n",
      "Epoch 53/150\n",
      "57/57 [==============================] - 0s 2ms/step - loss: 0.6889 - accuracy: 0.7042 - val_loss: 1.1270 - val_accuracy: 0.5454\n",
      "Epoch 54/150\n",
      "57/57 [==============================] - 0s 3ms/step - loss: 0.6557 - accuracy: 0.7206 - val_loss: 1.1417 - val_accuracy: 0.5428\n",
      "Epoch 55/150\n",
      "57/57 [==============================] - 0s 3ms/step - loss: 0.6614 - accuracy: 0.7176 - val_loss: 1.2062 - val_accuracy: 0.5376\n",
      "Epoch 56/150\n",
      "57/57 [==============================] - 0s 2ms/step - loss: 0.6435 - accuracy: 0.7270 - val_loss: 1.1632 - val_accuracy: 0.5333\n",
      "Epoch 57/150\n",
      "57/57 [==============================] - 0s 2ms/step - loss: 0.6463 - accuracy: 0.7269 - val_loss: 1.1830 - val_accuracy: 0.5475\n",
      "Epoch 58/150\n"
     ]
    },
    {
     "name": "stdout",
     "output_type": "stream",
     "text": [
      "57/57 [==============================] - 0s 2ms/step - loss: 0.6298 - accuracy: 0.7356 - val_loss: 1.1880 - val_accuracy: 0.5379\n",
      "Epoch 59/150\n",
      "57/57 [==============================] - 0s 3ms/step - loss: 0.6202 - accuracy: 0.7409 - val_loss: 1.2081 - val_accuracy: 0.5369\n",
      "Epoch 60/150\n",
      "57/57 [==============================] - 0s 3ms/step - loss: 0.6290 - accuracy: 0.7332 - val_loss: 1.2146 - val_accuracy: 0.5333\n",
      "Epoch 61/150\n",
      "57/57 [==============================] - 0s 2ms/step - loss: 0.6423 - accuracy: 0.7253 - val_loss: 1.2390 - val_accuracy: 0.5187\n",
      "Epoch 62/150\n",
      "57/57 [==============================] - 0s 2ms/step - loss: 0.6110 - accuracy: 0.7422 - val_loss: 1.2326 - val_accuracy: 0.5376\n",
      "Epoch 63/150\n",
      "57/57 [==============================] - 0s 2ms/step - loss: 0.6014 - accuracy: 0.7495 - val_loss: 1.2354 - val_accuracy: 0.5338\n",
      "Epoch 64/150\n",
      "57/57 [==============================] - 0s 3ms/step - loss: 0.5925 - accuracy: 0.7518 - val_loss: 1.2512 - val_accuracy: 0.5369\n",
      "Epoch 65/150\n",
      "57/57 [==============================] - 0s 4ms/step - loss: 0.6311 - accuracy: 0.7360 - val_loss: 1.2471 - val_accuracy: 0.5283\n",
      "Epoch 66/150\n",
      "57/57 [==============================] - 0s 2ms/step - loss: 0.5797 - accuracy: 0.7568 - val_loss: 1.2720 - val_accuracy: 0.5311\n",
      "Epoch 67/150\n",
      "57/57 [==============================] - 0s 2ms/step - loss: 0.5724 - accuracy: 0.7616 - val_loss: 1.2954 - val_accuracy: 0.5345\n",
      "Epoch 68/150\n",
      "57/57 [==============================] - 0s 2ms/step - loss: 0.5931 - accuracy: 0.7504 - val_loss: 1.2668 - val_accuracy: 0.5257\n",
      "Epoch 69/150\n",
      "57/57 [==============================] - 0s 2ms/step - loss: 0.6047 - accuracy: 0.7429 - val_loss: 1.2817 - val_accuracy: 0.5353\n",
      "Epoch 70/150\n",
      "57/57 [==============================] - 0s 2ms/step - loss: 0.5674 - accuracy: 0.7632 - val_loss: 1.3099 - val_accuracy: 0.5359\n",
      "Epoch 71/150\n",
      "57/57 [==============================] - 0s 2ms/step - loss: 0.6186 - accuracy: 0.7424 - val_loss: 1.2746 - val_accuracy: 0.5304\n",
      "Epoch 72/150\n",
      "57/57 [==============================] - 0s 2ms/step - loss: 0.5824 - accuracy: 0.7572 - val_loss: 1.3010 - val_accuracy: 0.5257\n",
      "Epoch 73/150\n",
      "57/57 [==============================] - 0s 2ms/step - loss: 0.5774 - accuracy: 0.7597 - val_loss: 1.3220 - val_accuracy: 0.5283\n",
      "Epoch 74/150\n",
      "57/57 [==============================] - 0s 2ms/step - loss: 0.5509 - accuracy: 0.7712 - val_loss: 1.3308 - val_accuracy: 0.5296\n",
      "Epoch 75/150\n",
      "57/57 [==============================] - 0s 2ms/step - loss: 0.5566 - accuracy: 0.7717 - val_loss: 1.3365 - val_accuracy: 0.5296\n",
      "Epoch 76/150\n",
      "57/57 [==============================] - 0s 2ms/step - loss: 0.5376 - accuracy: 0.7769 - val_loss: 1.3504 - val_accuracy: 0.5285\n",
      "Epoch 77/150\n",
      "57/57 [==============================] - 0s 2ms/step - loss: 0.5393 - accuracy: 0.7779 - val_loss: 1.3687 - val_accuracy: 0.5234\n",
      "Epoch 78/150\n",
      "57/57 [==============================] - 0s 3ms/step - loss: 0.5357 - accuracy: 0.7803 - val_loss: 1.3756 - val_accuracy: 0.5250\n",
      "Epoch 79/150\n",
      "57/57 [==============================] - 0s 3ms/step - loss: 0.5602 - accuracy: 0.7702 - val_loss: 1.3501 - val_accuracy: 0.5233\n",
      "Epoch 80/150\n",
      "57/57 [==============================] - 0s 3ms/step - loss: 0.5558 - accuracy: 0.7678 - val_loss: 1.3765 - val_accuracy: 0.5255\n",
      "Epoch 81/150\n",
      "57/57 [==============================] - 0s 3ms/step - loss: 0.5285 - accuracy: 0.7809 - val_loss: 1.3939 - val_accuracy: 0.5275\n",
      "Epoch 82/150\n",
      "57/57 [==============================] - 0s 3ms/step - loss: 0.5163 - accuracy: 0.7878 - val_loss: 1.4023 - val_accuracy: 0.5211\n",
      "Epoch 83/150\n",
      "57/57 [==============================] - 0s 3ms/step - loss: 0.5029 - accuracy: 0.7947 - val_loss: 1.4255 - val_accuracy: 0.5259\n",
      "Epoch 84/150\n",
      "57/57 [==============================] - 0s 3ms/step - loss: 0.4943 - accuracy: 0.7979 - val_loss: 1.4525 - val_accuracy: 0.5355\n",
      "Epoch 85/150\n",
      "57/57 [==============================] - 0s 3ms/step - loss: 0.5341 - accuracy: 0.7846 - val_loss: 1.4285 - val_accuracy: 0.5324\n",
      "Epoch 86/150\n",
      "57/57 [==============================] - 0s 2ms/step - loss: 0.5071 - accuracy: 0.7935 - val_loss: 1.4676 - val_accuracy: 0.5293\n",
      "Epoch 87/150\n",
      "57/57 [==============================] - 0s 2ms/step - loss: 0.5344 - accuracy: 0.7807 - val_loss: 1.4460 - val_accuracy: 0.5207\n",
      "Epoch 88/150\n",
      "57/57 [==============================] - 0s 2ms/step - loss: 0.5365 - accuracy: 0.7768 - val_loss: 1.4185 - val_accuracy: 0.5239\n",
      "Epoch 89/150\n",
      "57/57 [==============================] - 0s 2ms/step - loss: 0.4862 - accuracy: 0.8020 - val_loss: 1.4609 - val_accuracy: 0.5213\n",
      "Epoch 90/150\n",
      "57/57 [==============================] - 0s 2ms/step - loss: 0.4693 - accuracy: 0.8089 - val_loss: 1.4819 - val_accuracy: 0.5272\n",
      "Epoch 91/150\n",
      "57/57 [==============================] - 0s 2ms/step - loss: 0.4763 - accuracy: 0.8079 - val_loss: 1.5229 - val_accuracy: 0.5237\n",
      "Epoch 92/150\n",
      "57/57 [==============================] - 0s 2ms/step - loss: 0.4807 - accuracy: 0.8083 - val_loss: 1.5123 - val_accuracy: 0.5249\n",
      "Epoch 93/150\n",
      "57/57 [==============================] - 0s 2ms/step - loss: 0.4536 - accuracy: 0.8173 - val_loss: 1.5216 - val_accuracy: 0.5096\n",
      "Epoch 94/150\n",
      "57/57 [==============================] - 0s 2ms/step - loss: 0.4736 - accuracy: 0.8110 - val_loss: 1.5358 - val_accuracy: 0.5257\n",
      "Epoch 95/150\n",
      "57/57 [==============================] - 0s 2ms/step - loss: 0.4594 - accuracy: 0.8173 - val_loss: 1.5181 - val_accuracy: 0.5231\n",
      "Epoch 96/150\n",
      "57/57 [==============================] - 0s 2ms/step - loss: 0.4490 - accuracy: 0.8198 - val_loss: 1.5598 - val_accuracy: 0.5150\n",
      "Epoch 97/150\n",
      "57/57 [==============================] - 0s 2ms/step - loss: 0.4481 - accuracy: 0.8197 - val_loss: 1.5529 - val_accuracy: 0.5262\n",
      "Epoch 98/150\n",
      "57/57 [==============================] - 0s 2ms/step - loss: 0.4666 - accuracy: 0.8124 - val_loss: 1.5513 - val_accuracy: 0.5111\n",
      "Epoch 99/150\n",
      "57/57 [==============================] - 0s 2ms/step - loss: 0.4507 - accuracy: 0.8217 - val_loss: 1.6061 - val_accuracy: 0.5239\n",
      "Epoch 100/150\n",
      "57/57 [==============================] - 0s 2ms/step - loss: 0.4276 - accuracy: 0.8295 - val_loss: 1.6063 - val_accuracy: 0.5132\n",
      "Epoch 101/150\n",
      "57/57 [==============================] - 0s 2ms/step - loss: 0.4883 - accuracy: 0.8051 - val_loss: 1.5726 - val_accuracy: 0.5185\n",
      "Epoch 102/150\n",
      "57/57 [==============================] - 0s 2ms/step - loss: 0.4617 - accuracy: 0.8159 - val_loss: 1.6193 - val_accuracy: 0.5250\n",
      "Epoch 103/150\n",
      "57/57 [==============================] - 0s 2ms/step - loss: 0.4448 - accuracy: 0.8185 - val_loss: 1.5950 - val_accuracy: 0.5164\n",
      "Epoch 104/150\n",
      "57/57 [==============================] - 0s 2ms/step - loss: 0.4262 - accuracy: 0.8297 - val_loss: 1.6214 - val_accuracy: 0.5172\n",
      "Epoch 105/150\n",
      "57/57 [==============================] - 0s 2ms/step - loss: 0.4230 - accuracy: 0.8324 - val_loss: 1.6494 - val_accuracy: 0.5076\n",
      "Epoch 106/150\n",
      "57/57 [==============================] - 0s 2ms/step - loss: 0.4334 - accuracy: 0.8288 - val_loss: 1.6568 - val_accuracy: 0.5153\n",
      "Epoch 107/150\n",
      "57/57 [==============================] - 0s 2ms/step - loss: 0.4286 - accuracy: 0.8304 - val_loss: 1.6585 - val_accuracy: 0.5068\n",
      "Epoch 108/150\n",
      "57/57 [==============================] - 0s 2ms/step - loss: 0.4298 - accuracy: 0.8290 - val_loss: 1.6392 - val_accuracy: 0.5176\n",
      "Epoch 109/150\n",
      "57/57 [==============================] - 0s 2ms/step - loss: 0.4214 - accuracy: 0.8340 - val_loss: 1.6873 - val_accuracy: 0.5070\n",
      "Epoch 110/150\n",
      "57/57 [==============================] - 0s 2ms/step - loss: 0.4311 - accuracy: 0.8283 - val_loss: 1.6459 - val_accuracy: 0.5190\n",
      "Epoch 111/150\n",
      "57/57 [==============================] - 0s 2ms/step - loss: 0.4084 - accuracy: 0.8392 - val_loss: 1.6732 - val_accuracy: 0.5155\n",
      "Epoch 112/150\n",
      "57/57 [==============================] - 0s 2ms/step - loss: 0.4135 - accuracy: 0.8385 - val_loss: 1.7091 - val_accuracy: 0.5151\n",
      "Epoch 113/150\n",
      "57/57 [==============================] - 0s 2ms/step - loss: 0.4008 - accuracy: 0.8431 - val_loss: 1.6956 - val_accuracy: 0.5142\n",
      "Epoch 114/150\n",
      "57/57 [==============================] - 0s 2ms/step - loss: 0.3989 - accuracy: 0.8440 - val_loss: 1.7272 - val_accuracy: 0.5072\n",
      "Epoch 115/150\n",
      "57/57 [==============================] - 0s 2ms/step - loss: 0.3971 - accuracy: 0.8463 - val_loss: 1.7132 - val_accuracy: 0.5195\n"
     ]
    },
    {
     "name": "stdout",
     "output_type": "stream",
     "text": [
      "Epoch 116/150\n",
      "57/57 [==============================] - 0s 3ms/step - loss: 0.4509 - accuracy: 0.8198 - val_loss: 1.6974 - val_accuracy: 0.5208\n",
      "Epoch 117/150\n",
      "57/57 [==============================] - 0s 3ms/step - loss: 0.4440 - accuracy: 0.8243 - val_loss: 1.6609 - val_accuracy: 0.5169\n",
      "Epoch 118/150\n",
      "57/57 [==============================] - 0s 3ms/step - loss: 0.4184 - accuracy: 0.8333 - val_loss: 1.7026 - val_accuracy: 0.5107\n",
      "Epoch 119/150\n",
      "57/57 [==============================] - 0s 3ms/step - loss: 0.3984 - accuracy: 0.8444 - val_loss: 1.7367 - val_accuracy: 0.5177\n",
      "Epoch 120/150\n",
      "57/57 [==============================] - 0s 3ms/step - loss: 0.3806 - accuracy: 0.8530 - val_loss: 1.7481 - val_accuracy: 0.5130\n",
      "Epoch 121/150\n",
      "57/57 [==============================] - 0s 4ms/step - loss: 0.3918 - accuracy: 0.8481 - val_loss: 1.7487 - val_accuracy: 0.5211\n",
      "Epoch 122/150\n",
      "57/57 [==============================] - 0s 4ms/step - loss: 0.3685 - accuracy: 0.8572 - val_loss: 1.7391 - val_accuracy: 0.5138\n",
      "Epoch 123/150\n",
      "57/57 [==============================] - 0s 4ms/step - loss: 0.3849 - accuracy: 0.8487 - val_loss: 1.7944 - val_accuracy: 0.5185\n",
      "Epoch 124/150\n",
      "57/57 [==============================] - 0s 3ms/step - loss: 0.4033 - accuracy: 0.8412 - val_loss: 1.7903 - val_accuracy: 0.5195\n",
      "Epoch 125/150\n",
      "57/57 [==============================] - 0s 3ms/step - loss: 0.3826 - accuracy: 0.8505 - val_loss: 1.7811 - val_accuracy: 0.5202\n",
      "Epoch 126/150\n",
      "57/57 [==============================] - 0s 3ms/step - loss: 0.3796 - accuracy: 0.8496 - val_loss: 1.7835 - val_accuracy: 0.5086\n",
      "Epoch 127/150\n",
      "57/57 [==============================] - ETA: 0s - loss: 0.3780 - accuracy: 0.85 - 0s 3ms/step - loss: 0.3729 - accuracy: 0.8564 - val_loss: 1.8206 - val_accuracy: 0.5135\n",
      "Epoch 128/150\n",
      "57/57 [==============================] - 0s 3ms/step - loss: 0.3639 - accuracy: 0.8592 - val_loss: 1.8115 - val_accuracy: 0.5197\n",
      "Epoch 129/150\n",
      "57/57 [==============================] - 0s 3ms/step - loss: 0.3755 - accuracy: 0.8522 - val_loss: 1.8401 - val_accuracy: 0.5005\n",
      "Epoch 130/150\n",
      "57/57 [==============================] - 0s 2ms/step - loss: 0.3555 - accuracy: 0.8638 - val_loss: 1.8424 - val_accuracy: 0.5024\n",
      "Epoch 131/150\n",
      "57/57 [==============================] - 0s 2ms/step - loss: 0.3976 - accuracy: 0.8399 - val_loss: 1.8558 - val_accuracy: 0.5130\n",
      "Epoch 132/150\n",
      "57/57 [==============================] - 0s 2ms/step - loss: 0.3338 - accuracy: 0.8714 - val_loss: 1.8865 - val_accuracy: 0.5111\n",
      "Epoch 133/150\n",
      "57/57 [==============================] - 0s 2ms/step - loss: 0.3368 - accuracy: 0.8712 - val_loss: 1.8885 - val_accuracy: 0.5168\n",
      "Epoch 134/150\n",
      "57/57 [==============================] - 0s 2ms/step - loss: 0.3402 - accuracy: 0.8671 - val_loss: 1.9087 - val_accuracy: 0.5125\n",
      "Epoch 135/150\n",
      "57/57 [==============================] - 0s 2ms/step - loss: 0.3293 - accuracy: 0.8763 - val_loss: 1.9305 - val_accuracy: 0.4995\n",
      "Epoch 136/150\n",
      "57/57 [==============================] - 0s 2ms/step - loss: 0.3313 - accuracy: 0.8703 - val_loss: 1.9128 - val_accuracy: 0.5122\n",
      "Epoch 137/150\n",
      "57/57 [==============================] - 0s 3ms/step - loss: 0.3310 - accuracy: 0.8733 - val_loss: 1.9623 - val_accuracy: 0.5140\n",
      "Epoch 138/150\n",
      "57/57 [==============================] - 0s 3ms/step - loss: 0.3438 - accuracy: 0.8655 - val_loss: 1.9349 - val_accuracy: 0.5054\n",
      "Epoch 139/150\n",
      "57/57 [==============================] - 0s 3ms/step - loss: 0.3733 - accuracy: 0.8535 - val_loss: 1.9129 - val_accuracy: 0.5109\n",
      "Epoch 140/150\n",
      "57/57 [==============================] - 0s 3ms/step - loss: 0.3498 - accuracy: 0.8644 - val_loss: 1.9006 - val_accuracy: 0.5164\n",
      "Epoch 141/150\n",
      "57/57 [==============================] - 0s 3ms/step - loss: 0.3346 - accuracy: 0.8720 - val_loss: 1.9331 - val_accuracy: 0.5085\n",
      "Epoch 142/150\n",
      "57/57 [==============================] - 0s 3ms/step - loss: 0.3603 - accuracy: 0.8606 - val_loss: 1.9394 - val_accuracy: 0.5114\n",
      "Epoch 143/150\n",
      "57/57 [==============================] - 0s 2ms/step - loss: 0.3403 - accuracy: 0.8698 - val_loss: 1.9183 - val_accuracy: 0.5200\n",
      "Epoch 144/150\n",
      "57/57 [==============================] - 0s 2ms/step - loss: 0.3380 - accuracy: 0.8716 - val_loss: 1.9473 - val_accuracy: 0.5138\n",
      "Epoch 145/150\n",
      "57/57 [==============================] - 0s 2ms/step - loss: 0.3264 - accuracy: 0.8765 - val_loss: 1.9759 - val_accuracy: 0.5093\n",
      "Epoch 146/150\n",
      "57/57 [==============================] - 0s 2ms/step - loss: 0.3693 - accuracy: 0.8571 - val_loss: 1.9505 - val_accuracy: 0.5119\n",
      "Epoch 147/150\n",
      "57/57 [==============================] - 0s 2ms/step - loss: 0.3412 - accuracy: 0.8678 - val_loss: 1.9550 - val_accuracy: 0.5122\n",
      "Epoch 148/150\n",
      "57/57 [==============================] - 0s 2ms/step - loss: 0.3369 - accuracy: 0.8728 - val_loss: 1.9888 - val_accuracy: 0.5080\n",
      "Epoch 149/150\n",
      "57/57 [==============================] - 0s 2ms/step - loss: 0.3136 - accuracy: 0.8794 - val_loss: 2.0235 - val_accuracy: 0.5128\n",
      "Epoch 150/150\n",
      "57/57 [==============================] - 0s 2ms/step - loss: 0.3409 - accuracy: 0.8672 - val_loss: 1.9820 - val_accuracy: 0.5135\n",
      "Wall time: 22.6 s\n"
     ]
    }
   ],
   "source": [
    "%%time\n",
    "callback5 = TimingCallback()\n",
    "history5 = model5.fit(X_train, y_train, epochs=150, batch_size=256, validation_data=(X_test, y_test), callbacks=[callback5])"
   ]
  },
  {
   "cell_type": "code",
   "execution_count": 27,
   "id": "7311e42a",
   "metadata": {},
   "outputs": [
    {
     "name": "stdout",
     "output_type": "stream",
     "text": [
      "<-------------Model Accuracy Graph------------->\n"
     ]
    },
    {
     "data": {
      "image/png": "[encoded data removed]",
      "text/plain": [
       "<Figure size 432x288 with 1 Axes>"
      ]
     },
     "metadata": {
      "needs_background": "light"
     },
     "output_type": "display_data"
    },
    {
     "name": "stdout",
     "output_type": "stream",
     "text": [
      "<-------------Model Loss Graph------------->\n"
     ]
    },
    {
     "data": {
      "image/png": "[encoded data removed]",
      "text/plain": [
       "<Figure size 432x288 with 1 Axes>"
      ]
     },
     "metadata": {
      "needs_background": "light"
     },
     "output_type": "display_data"
    },
    {
     "name": "stdout",
     "output_type": "stream",
     "text": [
      "Wall time: 206 ms\n"
     ]
    }
   ],
   "source": [
    "%%time\n",
    "print('<-------------Model Accuracy Graph------------->')\n",
    "plot_model_accuracy(history5)\n",
    "\n",
    "print('<-------------Model Loss Graph------------->')\n",
    "plot_model_loss(history5)"
   ]
  },
  {
   "cell_type": "code",
   "execution_count": 28,
   "id": "8dbfe80d",
   "metadata": {
    "scrolled": true
   },
   "outputs": [
    {
     "name": "stdout",
     "output_type": "stream",
     "text": [
      "Total time taken in training the model: 22.40 seconds\n",
      "Wall time: 0 ns\n"
     ]
    }
   ],
   "source": [
    "%%time\n",
    "print('Total time taken in training the model: %.2f seconds' % (sum(callback5.logs)))"
   ]
  },
  {
   "cell_type": "code",
   "execution_count": 29,
   "id": "526287f7",
   "metadata": {
    "scrolled": false
   },
   "outputs": [
    {
     "name": "stdout",
     "output_type": "stream",
     "text": [
      "193/193 [==============================] - 0s 499us/step - loss: 1.9820 - accuracy: 0.5135\n",
      "\n",
      "Test accuracy = 0.5135003328323364 \n",
      "loss - 1.981969952583313\n",
      "\n",
      "\n",
      "Classification Report\n",
      "               precision    recall  f1-score   support\n",
      "\n",
      "           0       0.52      0.57      0.54       432\n",
      "           1       0.31      0.31      0.31       523\n",
      "           2       0.28      0.18      0.22       645\n",
      "           3       0.43      0.39      0.41      1887\n",
      "           4       0.63      0.71      0.67      2661\n",
      "\n",
      "    accuracy                           0.51      6148\n",
      "   macro avg       0.43      0.43      0.43      6148\n",
      "weighted avg       0.50      0.51      0.50      6148\n",
      "\n",
      "=====================================================\n",
      "\n",
      "Confusion Matrix Display\n"
     ]
    },
    {
     "data": {
      "image/png": "[encoded data removed]",
      "text/plain": [
       "<Figure size 432x288 with 2 Axes>"
      ]
     },
     "metadata": {
      "needs_background": "light"
     },
     "output_type": "display_data"
    },
    {
     "name": "stdout",
     "output_type": "stream",
     "text": [
      "Wall time: 449 ms\n"
     ]
    }
   ],
   "source": [
    "%%time\n",
    "loss5, acc5 = model5.evaluate(X_test, y_test)\n",
    "print('\\nTest accuracy = {} \\nloss - {}\\n'.format(acc5, loss5))\n",
    "y_pred5 = np.argmax(model5.predict(X_test), axis=-1)\n",
    "cm5 = classification_report(inverse_transformed_y_test, y_pred5)\n",
    "print('\\nClassification Report\\n', cm5)\n",
    "print('=====================================================\\n')\n",
    "confusion_matrix5 = confusion_matrix(inverse_transformed_y_test, y_pred5)\n",
    "print('Confusion Matrix Display')\n",
    "disp = ConfusionMatrixDisplay(confusion_matrix=confusion_matrix5, display_labels=[0, 1, 2, 3, 4])\n",
    "disp.plot()\n",
    "plt.show()"
   ]
  },
  {
   "cell_type": "code",
   "execution_count": 30,
   "id": "ed62bd0b",
   "metadata": {},
   "outputs": [
    {
     "name": "stdout",
     "output_type": "stream",
     "text": [
      "Wall time: 0 ns\n"
     ]
    }
   ],
   "source": [
    "%%time\n",
    "q1_model_comparision.append(['Model-2', loss5, acc5])"
   ]
  },
  {
   "cell_type": "code",
   "execution_count": 31,
   "id": "3bf8b679",
   "metadata": {
    "scrolled": true
   },
   "outputs": [
    {
     "name": "stdout",
     "output_type": "stream",
     "text": [
      "Wall time: 1.03 ms\n"
     ]
    },
    {
     "data": {
      "text/html": [
       "<div>\n",
       "<style scoped>\n",
       "    .dataframe tbody tr th:only-of-type {\n",
       "        vertical-align: middle;\n",
       "    }\n",
       "\n",
       "    .dataframe tbody tr th {\n",
       "        vertical-align: top;\n",
       "    }\n",
       "\n",
       "    .dataframe thead th {\n",
       "        text-align: right;\n",
       "    }\n",
       "</style>\n",
       "<table border=\"1\" class=\"dataframe\">\n",
       "  <thead>\n",
       "    <tr style=\"text-align: right;\">\n",
       "      <th></th>\n",
       "      <th>Rating</th>\n",
       "      <th>Correct</th>\n",
       "      <th>Correct_Perc</th>\n",
       "      <th>Incorrect</th>\n",
       "      <th>InCorrect_Perc</th>\n",
       "    </tr>\n",
       "  </thead>\n",
       "  <tbody>\n",
       "    <tr>\n",
       "      <th>0</th>\n",
       "      <td>1</td>\n",
       "      <td>245</td>\n",
       "      <td>56.71%</td>\n",
       "      <td>187</td>\n",
       "      <td>43.29%</td>\n",
       "    </tr>\n",
       "    <tr>\n",
       "      <th>1</th>\n",
       "      <td>2</td>\n",
       "      <td>162</td>\n",
       "      <td>30.98%</td>\n",
       "      <td>361</td>\n",
       "      <td>69.02%</td>\n",
       "    </tr>\n",
       "    <tr>\n",
       "      <th>2</th>\n",
       "      <td>3</td>\n",
       "      <td>118</td>\n",
       "      <td>18.29%</td>\n",
       "      <td>527</td>\n",
       "      <td>81.71%</td>\n",
       "    </tr>\n",
       "    <tr>\n",
       "      <th>3</th>\n",
       "      <td>4</td>\n",
       "      <td>734</td>\n",
       "      <td>38.9%</td>\n",
       "      <td>1153</td>\n",
       "      <td>61.1%</td>\n",
       "    </tr>\n",
       "    <tr>\n",
       "      <th>4</th>\n",
       "      <td>5</td>\n",
       "      <td>1898</td>\n",
       "      <td>71.33%</td>\n",
       "      <td>763</td>\n",
       "      <td>28.67%</td>\n",
       "    </tr>\n",
       "  </tbody>\n",
       "</table>\n",
       "</div>"
      ],
      "text/plain": [
       "   Rating  Correct Correct_Perc  Incorrect InCorrect_Perc\n",
       "0       1      245       56.71%        187         43.29%\n",
       "1       2      162       30.98%        361         69.02%\n",
       "2       3      118       18.29%        527         81.71%\n",
       "3       4      734        38.9%       1153          61.1%\n",
       "4       5     1898       71.33%        763         28.67%"
      ]
     },
     "execution_count": 31,
     "metadata": {},
     "output_type": "execute_result"
    }
   ],
   "source": [
    "%%time\n",
    "# ================================\n",
    "# Classification report\n",
    "#================================\n",
    "calculate_total_correct_incorrect_prediction(confusion_matrix5)"
   ]
  },
  {
   "cell_type": "code",
   "execution_count": 32,
   "id": "fc8237b1",
   "metadata": {},
   "outputs": [
    {
     "name": "stdout",
     "output_type": "stream",
     "text": [
      "Based on the above classification report, the model classified class label '5' records the best with accuracy of 87% while the worst performing class label '3' with accuracy of merely 20%\n",
      "Wall time: 0 ns\n"
     ]
    }
   ],
   "source": [
    "%%time\n",
    "# ================================\n",
    "# Best and Worst performing class\n",
    "#================================\n",
    "print(\"Based on the above classification report, the model classified class label '5' records the best with accuracy of 87% while the worst performing class label '3' with accuracy of merely 20%\")"
   ]
  },
  {
   "cell_type": "code",
   "execution_count": 33,
   "id": "f51202df",
   "metadata": {},
   "outputs": [],
   "source": [
    "#==============================================================================\n",
    "# Two most incorrectly classified records for each class in the test dataset.\n",
    "#==============================================================================\n",
    "\n",
    "# for i in range(1,6):  \n",
    "#     count =0\n",
    "#     for index, input, prediction, label in zip(enumerate(X_test), X_test, y_pred4, inverse_transformed_y_test):\n",
    "#         print(index, input, prediction, label)\n",
    "#         if prediction != label and count<10:\n",
    "#             print(', has been classified as', prediction, 'and should be', label) \n",
    "#             count=count+1"
   ]
  },
  {
   "cell_type": "markdown",
   "id": "5a7974de",
   "metadata": {},
   "source": [
    "### Model 3 (Change dropout)\n",
    "#### 1. Model Building\n",
    "The model is build with sequential model having 3 hidden layers. Having 128 nodes in first hidden layer, 64 nodes in second hidden layer and 64 in the third layer. We noticed that the model was training well with the less number of the nodes since we have a good amount of data. Hence with many Experimental configuration, this was one which was giving the top results."
   ]
  },
  {
   "cell_type": "code",
   "execution_count": 34,
   "id": "751776d4",
   "metadata": {},
   "outputs": [
    {
     "name": "stdout",
     "output_type": "stream",
     "text": [
      "Model: \"Model-5\"\n",
      "_________________________________________________________________\n",
      "Layer (type)                 Output Shape              Param #   \n",
      "=================================================================\n",
      "dense_8 (Dense)              (None, 128)               16512     \n",
      "_________________________________________________________________\n",
      "dense_9 (Dense)              (None, 64)                8256      \n",
      "_________________________________________________________________\n",
      "dense_10 (Dense)             (None, 64)                4160      \n",
      "_________________________________________________________________\n",
      "dense_11 (Dense)             (None, 5)                 325       \n",
      "=================================================================\n",
      "Total params: 29,253\n",
      "Trainable params: 29,253\n",
      "Non-trainable params: 0\n",
      "_________________________________________________________________\n",
      "Wall time: 25.9 ms\n"
     ]
    }
   ],
   "source": [
    "%%time\n",
    "# Create a new keras sequential model and add hidden layers to it with appropriate number of nodes and activation function\n",
    "model6 = keras.Sequential(name = 'Model-5')\n",
    "model6.add(layers.InputLayer(input_shape=(128,)))\n",
    "\n",
    "model6.add(layers.Dense(128, activation='relu'))\n",
    "# Dropout is a regularization technique and used for preventing overfitting.For the current model it works best when added to\n",
    "# the 1st dense layer by preventing all neurons in a first layer from synchronously optimizing their weights.\n",
    "model6.add(layers.Dense(64, activation='relu'))\n",
    "model5.add(layers.Dropout(0.3))\n",
    "model6.add(layers.Dense(64, activation='relu'))\n",
    "\n",
    "model6.add(layers.Dense(5, activation='softmax'))\n",
    "\n",
    "# Summarize the model with the different layers and the number of parameter each layer contains. It also summarize the total\n",
    "# number of params in which how many are trainable and how many are non trainable. \n",
    "model6.summary()"
   ]
  },
  {
   "cell_type": "markdown",
   "id": "24a41ebd",
   "metadata": {},
   "source": [
    "#### 2. Model Compilation"
   ]
  },
  {
   "cell_type": "code",
   "execution_count": 35,
   "id": "1959b3c8",
   "metadata": {},
   "outputs": [
    {
     "name": "stdout",
     "output_type": "stream",
     "text": [
      "Wall time: 4.99 ms\n"
     ]
    }
   ],
   "source": [
    "%%time\n",
    "model6.compile(loss='categorical_crossentropy', metrics=['accuracy'], optimizer=keras.optimizers.Adam(learning_rate=0.001))"
   ]
  },
  {
   "cell_type": "markdown",
   "id": "ffc5525d",
   "metadata": {},
   "source": [
    "#### 3. Model Training"
   ]
  },
  {
   "cell_type": "code",
   "execution_count": 36,
   "id": "dae114c3",
   "metadata": {},
   "outputs": [
    {
     "name": "stdout",
     "output_type": "stream",
     "text": [
      "Epoch 1/150\n",
      "57/57 [==============================] - 1s 6ms/step - loss: 1.2965 - accuracy: 0.4521 - val_loss: 1.0847 - val_accuracy: 0.5063\n",
      "Epoch 2/150\n",
      "57/57 [==============================] - 0s 3ms/step - loss: 1.0279 - accuracy: 0.5467 - val_loss: 0.9921 - val_accuracy: 0.5599\n",
      "Epoch 3/150\n",
      "57/57 [==============================] - 0s 3ms/step - loss: 0.9860 - accuracy: 0.5648 - val_loss: 0.9711 - val_accuracy: 0.5698\n",
      "Epoch 4/150\n",
      "57/57 [==============================] - 0s 3ms/step - loss: 0.9643 - accuracy: 0.5735 - val_loss: 0.9856 - val_accuracy: 0.5517\n",
      "Epoch 5/150\n",
      "57/57 [==============================] - 0s 3ms/step - loss: 0.9594 - accuracy: 0.5687 - val_loss: 0.9493 - val_accuracy: 0.5810\n",
      "Epoch 6/150\n",
      "57/57 [==============================] - 0s 2ms/step - loss: 0.9446 - accuracy: 0.5824 - val_loss: 0.9445 - val_accuracy: 0.5792\n",
      "Epoch 7/150\n",
      "57/57 [==============================] - 0s 2ms/step - loss: 0.9353 - accuracy: 0.5869 - val_loss: 0.9476 - val_accuracy: 0.5768\n",
      "Epoch 8/150\n",
      "57/57 [==============================] - 0s 1ms/step - loss: 0.9313 - accuracy: 0.5894 - val_loss: 0.9437 - val_accuracy: 0.5808\n",
      "Epoch 9/150\n",
      "57/57 [==============================] - 0s 1ms/step - loss: 0.9297 - accuracy: 0.5913 - val_loss: 0.9575 - val_accuracy: 0.5712\n",
      "Epoch 10/150\n",
      "57/57 [==============================] - 0s 1ms/step - loss: 0.9262 - accuracy: 0.5896 - val_loss: 0.9404 - val_accuracy: 0.5782\n",
      "Epoch 11/150\n",
      "57/57 [==============================] - 0s 2ms/step - loss: 0.9133 - accuracy: 0.5933 - val_loss: 0.9465 - val_accuracy: 0.5810\n",
      "Epoch 12/150\n",
      "57/57 [==============================] - 0s 2ms/step - loss: 0.9051 - accuracy: 0.6002 - val_loss: 0.9515 - val_accuracy: 0.5734\n",
      "Epoch 13/150\n",
      "57/57 [==============================] - 0s 2ms/step - loss: 0.9050 - accuracy: 0.6028 - val_loss: 0.9532 - val_accuracy: 0.5682\n",
      "Epoch 14/150\n",
      "57/57 [==============================] - 0s 2ms/step - loss: 0.8927 - accuracy: 0.6082 - val_loss: 0.9462 - val_accuracy: 0.5804\n",
      "Epoch 15/150\n",
      "57/57 [==============================] - 0s 2ms/step - loss: 0.8848 - accuracy: 0.6093 - val_loss: 0.9520 - val_accuracy: 0.5763\n",
      "Epoch 16/150\n",
      "57/57 [==============================] - 0s 2ms/step - loss: 0.8811 - accuracy: 0.6098 - val_loss: 0.9674 - val_accuracy: 0.5769\n",
      "Epoch 17/150\n",
      "57/57 [==============================] - 0s 2ms/step - loss: 0.8786 - accuracy: 0.6099 - val_loss: 0.9485 - val_accuracy: 0.5742\n",
      "Epoch 18/150\n",
      "57/57 [==============================] - 0s 2ms/step - loss: 0.8622 - accuracy: 0.6223 - val_loss: 0.9517 - val_accuracy: 0.5761\n",
      "Epoch 19/150\n",
      "57/57 [==============================] - 0s 2ms/step - loss: 0.8571 - accuracy: 0.6230 - val_loss: 0.9974 - val_accuracy: 0.5478\n",
      "Epoch 20/150\n",
      "57/57 [==============================] - 0s 2ms/step - loss: 0.8672 - accuracy: 0.6192 - val_loss: 0.9750 - val_accuracy: 0.5657\n",
      "Epoch 21/150\n",
      "57/57 [==============================] - 0s 2ms/step - loss: 0.8464 - accuracy: 0.6263 - val_loss: 0.9705 - val_accuracy: 0.5600\n",
      "Epoch 22/150\n",
      "57/57 [==============================] - 0s 2ms/step - loss: 0.8321 - accuracy: 0.6359 - val_loss: 0.9759 - val_accuracy: 0.5691\n",
      "Epoch 23/150\n",
      "57/57 [==============================] - 0s 2ms/step - loss: 0.8352 - accuracy: 0.6319 - val_loss: 1.0141 - val_accuracy: 0.5400\n",
      "Epoch 24/150\n",
      "57/57 [==============================] - 0s 2ms/step - loss: 0.8361 - accuracy: 0.6333 - val_loss: 0.9712 - val_accuracy: 0.5686\n",
      "Epoch 25/150\n",
      "57/57 [==============================] - 0s 2ms/step - loss: 0.8126 - accuracy: 0.6421 - val_loss: 0.9882 - val_accuracy: 0.5600\n",
      "Epoch 26/150\n",
      "57/57 [==============================] - 0s 2ms/step - loss: 0.8059 - accuracy: 0.6453 - val_loss: 1.1013 - val_accuracy: 0.5467\n",
      "Epoch 27/150\n",
      "57/57 [==============================] - 0s 2ms/step - loss: 0.8257 - accuracy: 0.6338 - val_loss: 0.9999 - val_accuracy: 0.5576\n",
      "Epoch 28/150\n",
      "57/57 [==============================] - 0s 2ms/step - loss: 0.7904 - accuracy: 0.6527 - val_loss: 1.0082 - val_accuracy: 0.5543\n",
      "Epoch 29/150\n",
      "57/57 [==============================] - 0s 2ms/step - loss: 0.7808 - accuracy: 0.6586 - val_loss: 1.0136 - val_accuracy: 0.5610\n",
      "Epoch 30/150\n",
      "57/57 [==============================] - 0s 2ms/step - loss: 0.7744 - accuracy: 0.6623 - val_loss: 1.0470 - val_accuracy: 0.5555\n",
      "Epoch 31/150\n",
      "57/57 [==============================] - 0s 2ms/step - loss: 0.7713 - accuracy: 0.6639 - val_loss: 1.0739 - val_accuracy: 0.5399\n",
      "Epoch 32/150\n",
      "57/57 [==============================] - 0s 2ms/step - loss: 0.7769 - accuracy: 0.6591 - val_loss: 1.0346 - val_accuracy: 0.5540\n",
      "Epoch 33/150\n",
      "57/57 [==============================] - 0s 2ms/step - loss: 0.7505 - accuracy: 0.6756 - val_loss: 1.0498 - val_accuracy: 0.5519\n",
      "Epoch 34/150\n",
      "57/57 [==============================] - 0s 2ms/step - loss: 0.7496 - accuracy: 0.6704 - val_loss: 1.0763 - val_accuracy: 0.5566\n",
      "Epoch 35/150\n",
      "57/57 [==============================] - 0s 2ms/step - loss: 0.7340 - accuracy: 0.6810 - val_loss: 1.0718 - val_accuracy: 0.5459\n",
      "Epoch 36/150\n",
      "57/57 [==============================] - 0s 2ms/step - loss: 0.7297 - accuracy: 0.6833 - val_loss: 1.0975 - val_accuracy: 0.5408\n",
      "Epoch 37/150\n",
      "57/57 [==============================] - 0s 2ms/step - loss: 0.7166 - accuracy: 0.6897 - val_loss: 1.1275 - val_accuracy: 0.5265\n",
      "Epoch 38/150\n",
      "57/57 [==============================] - 0s 2ms/step - loss: 0.7248 - accuracy: 0.6821 - val_loss: 1.1107 - val_accuracy: 0.5433\n",
      "Epoch 39/150\n",
      "57/57 [==============================] - 0s 2ms/step - loss: 0.6998 - accuracy: 0.7011 - val_loss: 1.1672 - val_accuracy: 0.5457\n",
      "Epoch 40/150\n",
      "57/57 [==============================] - 0s 2ms/step - loss: 0.7006 - accuracy: 0.6955 - val_loss: 1.1736 - val_accuracy: 0.5455\n",
      "Epoch 41/150\n",
      "57/57 [==============================] - 0s 2ms/step - loss: 0.6915 - accuracy: 0.7065 - val_loss: 1.1345 - val_accuracy: 0.5421\n",
      "Epoch 42/150\n",
      "57/57 [==============================] - ETA: 0s - loss: 0.6857 - accuracy: 0.70 - 0s 2ms/step - loss: 0.6822 - accuracy: 0.7082 - val_loss: 1.1974 - val_accuracy: 0.5189\n",
      "Epoch 43/150\n",
      "57/57 [==============================] - 0s 2ms/step - loss: 0.6839 - accuracy: 0.7037 - val_loss: 1.1846 - val_accuracy: 0.5470\n",
      "Epoch 44/150\n",
      "57/57 [==============================] - 0s 2ms/step - loss: 0.6698 - accuracy: 0.7154 - val_loss: 1.1834 - val_accuracy: 0.5460\n",
      "Epoch 45/150\n",
      "57/57 [==============================] - 0s 2ms/step - loss: 0.6503 - accuracy: 0.7245 - val_loss: 1.1910 - val_accuracy: 0.5246\n",
      "Epoch 46/150\n",
      "57/57 [==============================] - 0s 3ms/step - loss: 0.6562 - accuracy: 0.7208 - val_loss: 1.2186 - val_accuracy: 0.5148\n",
      "Epoch 47/150\n",
      "57/57 [==============================] - 0s 3ms/step - loss: 0.6332 - accuracy: 0.7290 - val_loss: 1.2244 - val_accuracy: 0.5436\n",
      "Epoch 48/150\n",
      "57/57 [==============================] - 0s 3ms/step - loss: 0.6299 - accuracy: 0.7324 - val_loss: 1.2291 - val_accuracy: 0.5385\n",
      "Epoch 49/150\n",
      "57/57 [==============================] - 0s 3ms/step - loss: 0.6178 - accuracy: 0.7368 - val_loss: 1.2463 - val_accuracy: 0.5281\n",
      "Epoch 50/150\n",
      "57/57 [==============================] - 0s 3ms/step - loss: 0.6114 - accuracy: 0.7432 - val_loss: 1.2782 - val_accuracy: 0.5255\n",
      "Epoch 51/150\n",
      "57/57 [==============================] - 0s 3ms/step - loss: 0.5981 - accuracy: 0.7510 - val_loss: 1.2793 - val_accuracy: 0.5229\n",
      "Epoch 52/150\n",
      "57/57 [==============================] - 0s 3ms/step - loss: 0.6135 - accuracy: 0.7344 - val_loss: 1.3312 - val_accuracy: 0.5013\n",
      "Epoch 53/150\n",
      "57/57 [==============================] - 0s 2ms/step - loss: 0.5939 - accuracy: 0.7512 - val_loss: 1.3262 - val_accuracy: 0.5202\n",
      "Epoch 54/150\n",
      "57/57 [==============================] - 0s 2ms/step - loss: 0.5990 - accuracy: 0.7491 - val_loss: 1.3207 - val_accuracy: 0.5195\n",
      "Epoch 55/150\n",
      "57/57 [==============================] - 0s 3ms/step - loss: 0.5649 - accuracy: 0.7643 - val_loss: 1.3444 - val_accuracy: 0.5249\n",
      "Epoch 56/150\n",
      "57/57 [==============================] - ETA: 0s - loss: 0.5516 - accuracy: 0.76 - 0s 2ms/step - loss: 0.5582 - accuracy: 0.7659 - val_loss: 1.3910 - val_accuracy: 0.5089\n",
      "Epoch 57/150\n",
      "57/57 [==============================] - 0s 3ms/step - loss: 0.5525 - accuracy: 0.7705 - val_loss: 1.3886 - val_accuracy: 0.5143\n",
      "Epoch 58/150\n"
     ]
    },
    {
     "name": "stdout",
     "output_type": "stream",
     "text": [
      "57/57 [==============================] - 0s 3ms/step - loss: 0.5537 - accuracy: 0.7713 - val_loss: 1.4201 - val_accuracy: 0.5159\n",
      "Epoch 59/150\n",
      "57/57 [==============================] - 0s 2ms/step - loss: 0.5639 - accuracy: 0.7639 - val_loss: 1.3993 - val_accuracy: 0.5198\n",
      "Epoch 60/150\n",
      "57/57 [==============================] - 0s 2ms/step - loss: 0.5368 - accuracy: 0.7749 - val_loss: 1.4328 - val_accuracy: 0.5119\n",
      "Epoch 61/150\n",
      "57/57 [==============================] - 0s 2ms/step - loss: 0.5292 - accuracy: 0.7805 - val_loss: 1.4296 - val_accuracy: 0.5078\n",
      "Epoch 62/150\n",
      "57/57 [==============================] - 0s 2ms/step - loss: 0.5358 - accuracy: 0.7767 - val_loss: 1.5719 - val_accuracy: 0.4676\n",
      "Epoch 63/150\n",
      "57/57 [==============================] - 0s 2ms/step - loss: 0.5315 - accuracy: 0.7784 - val_loss: 1.5097 - val_accuracy: 0.5237\n",
      "Epoch 64/150\n",
      "57/57 [==============================] - 0s 2ms/step - loss: 0.5070 - accuracy: 0.7920 - val_loss: 1.5433 - val_accuracy: 0.5140\n",
      "Epoch 65/150\n",
      "57/57 [==============================] - 0s 2ms/step - loss: 0.4882 - accuracy: 0.8012 - val_loss: 1.5397 - val_accuracy: 0.5031\n",
      "Epoch 66/150\n",
      "57/57 [==============================] - 0s 2ms/step - loss: 0.4817 - accuracy: 0.8044 - val_loss: 1.6696 - val_accuracy: 0.4743\n",
      "Epoch 67/150\n",
      "57/57 [==============================] - 0s 2ms/step - loss: 0.4868 - accuracy: 0.7989 - val_loss: 1.6058 - val_accuracy: 0.4928\n",
      "Epoch 68/150\n",
      "57/57 [==============================] - 0s 1ms/step - loss: 0.4820 - accuracy: 0.8044 - val_loss: 1.6360 - val_accuracy: 0.5080\n",
      "Epoch 69/150\n",
      "57/57 [==============================] - 0s 2ms/step - loss: 0.4585 - accuracy: 0.8175 - val_loss: 1.6889 - val_accuracy: 0.5185\n",
      "Epoch 70/150\n",
      "57/57 [==============================] - 0s 2ms/step - loss: 0.4469 - accuracy: 0.8198 - val_loss: 1.6568 - val_accuracy: 0.5062\n",
      "Epoch 71/150\n",
      "57/57 [==============================] - 0s 1ms/step - loss: 0.4619 - accuracy: 0.8126 - val_loss: 1.7073 - val_accuracy: 0.5143\n",
      "Epoch 72/150\n",
      "57/57 [==============================] - 0s 2ms/step - loss: 0.4572 - accuracy: 0.8129 - val_loss: 1.7320 - val_accuracy: 0.5034\n",
      "Epoch 73/150\n",
      "57/57 [==============================] - 0s 2ms/step - loss: 0.4350 - accuracy: 0.8270 - val_loss: 1.7353 - val_accuracy: 0.4984\n",
      "Epoch 74/150\n",
      "57/57 [==============================] - 0s 1ms/step - loss: 0.4361 - accuracy: 0.8258 - val_loss: 1.7514 - val_accuracy: 0.5026\n",
      "Epoch 75/150\n",
      "57/57 [==============================] - 0s 2ms/step - loss: 0.4280 - accuracy: 0.8279 - val_loss: 1.8091 - val_accuracy: 0.5086\n",
      "Epoch 76/150\n",
      "57/57 [==============================] - 0s 2ms/step - loss: 0.4064 - accuracy: 0.8392 - val_loss: 1.7883 - val_accuracy: 0.5018\n",
      "Epoch 77/150\n",
      "57/57 [==============================] - 0s 2ms/step - loss: 0.3961 - accuracy: 0.8476 - val_loss: 1.8891 - val_accuracy: 0.4990\n",
      "Epoch 78/150\n",
      "57/57 [==============================] - 0s 2ms/step - loss: 0.3813 - accuracy: 0.8523 - val_loss: 1.9358 - val_accuracy: 0.4898\n",
      "Epoch 79/150\n",
      "57/57 [==============================] - 0s 2ms/step - loss: 0.4096 - accuracy: 0.8350 - val_loss: 1.9336 - val_accuracy: 0.4780\n",
      "Epoch 80/150\n",
      "57/57 [==============================] - 0s 2ms/step - loss: 0.3893 - accuracy: 0.8470 - val_loss: 1.9266 - val_accuracy: 0.5033\n",
      "Epoch 81/150\n",
      "57/57 [==============================] - 0s 2ms/step - loss: 0.3658 - accuracy: 0.8583 - val_loss: 1.9200 - val_accuracy: 0.5016\n",
      "Epoch 82/150\n",
      "57/57 [==============================] - 0s 2ms/step - loss: 0.3644 - accuracy: 0.8558 - val_loss: 1.9938 - val_accuracy: 0.4969\n",
      "Epoch 83/150\n",
      "57/57 [==============================] - 0s 1ms/step - loss: 0.3553 - accuracy: 0.8615 - val_loss: 2.0124 - val_accuracy: 0.4989\n",
      "Epoch 84/150\n",
      "57/57 [==============================] - 0s 1ms/step - loss: 0.3688 - accuracy: 0.8573 - val_loss: 2.0372 - val_accuracy: 0.5068\n",
      "Epoch 85/150\n",
      "57/57 [==============================] - 0s 1ms/step - loss: 0.3492 - accuracy: 0.8645 - val_loss: 2.1101 - val_accuracy: 0.5091\n",
      "Epoch 86/150\n",
      "57/57 [==============================] - 0s 2ms/step - loss: 0.4060 - accuracy: 0.8363 - val_loss: 2.1161 - val_accuracy: 0.4841\n",
      "Epoch 87/150\n",
      "57/57 [==============================] - 0s 1ms/step - loss: 0.3479 - accuracy: 0.8661 - val_loss: 2.1176 - val_accuracy: 0.4837\n",
      "Epoch 88/150\n",
      "57/57 [==============================] - 0s 2ms/step - loss: 0.3142 - accuracy: 0.8861 - val_loss: 2.1509 - val_accuracy: 0.4974\n",
      "Epoch 89/150\n",
      "57/57 [==============================] - 0s 2ms/step - loss: 0.3268 - accuracy: 0.8720 - val_loss: 2.1615 - val_accuracy: 0.4998\n",
      "Epoch 90/150\n",
      "57/57 [==============================] - 0s 2ms/step - loss: 0.3031 - accuracy: 0.8884 - val_loss: 2.2315 - val_accuracy: 0.4937\n",
      "Epoch 91/150\n",
      "57/57 [==============================] - 0s 2ms/step - loss: 0.3081 - accuracy: 0.8845 - val_loss: 2.2860 - val_accuracy: 0.4883\n",
      "Epoch 92/150\n",
      "57/57 [==============================] - 0s 2ms/step - loss: 0.2936 - accuracy: 0.8925 - val_loss: 2.3717 - val_accuracy: 0.4826\n",
      "Epoch 93/150\n",
      "57/57 [==============================] - 0s 2ms/step - loss: 0.3582 - accuracy: 0.8587 - val_loss: 2.2934 - val_accuracy: 0.4940\n",
      "Epoch 94/150\n",
      "57/57 [==============================] - 0s 1ms/step - loss: 0.2800 - accuracy: 0.8979 - val_loss: 2.3649 - val_accuracy: 0.4902\n",
      "Epoch 95/150\n",
      "57/57 [==============================] - 0s 2ms/step - loss: 0.2766 - accuracy: 0.8993 - val_loss: 2.3914 - val_accuracy: 0.4941\n",
      "Epoch 96/150\n",
      "57/57 [==============================] - 0s 2ms/step - loss: 0.2663 - accuracy: 0.9046 - val_loss: 2.4983 - val_accuracy: 0.5011\n",
      "Epoch 97/150\n",
      "57/57 [==============================] - 0s 2ms/step - loss: 0.2605 - accuracy: 0.9061 - val_loss: 2.5649 - val_accuracy: 0.4785\n",
      "Epoch 98/150\n",
      "57/57 [==============================] - 0s 2ms/step - loss: 0.2908 - accuracy: 0.8883 - val_loss: 2.4842 - val_accuracy: 0.4933\n",
      "Epoch 99/150\n",
      "57/57 [==============================] - 0s 2ms/step - loss: 0.2800 - accuracy: 0.8926 - val_loss: 2.5111 - val_accuracy: 0.5065\n",
      "Epoch 100/150\n",
      "57/57 [==============================] - 0s 2ms/step - loss: 0.2380 - accuracy: 0.9191 - val_loss: 2.5778 - val_accuracy: 0.4956\n",
      "Epoch 101/150\n",
      "57/57 [==============================] - 0s 3ms/step - loss: 0.2268 - accuracy: 0.9241 - val_loss: 2.7329 - val_accuracy: 0.4753\n",
      "Epoch 102/150\n",
      "57/57 [==============================] - 0s 3ms/step - loss: 0.2914 - accuracy: 0.8875 - val_loss: 2.6293 - val_accuracy: 0.4889\n",
      "Epoch 103/150\n",
      "57/57 [==============================] - 0s 3ms/step - loss: 0.2362 - accuracy: 0.9145 - val_loss: 2.7359 - val_accuracy: 0.4951\n",
      "Epoch 104/150\n",
      "57/57 [==============================] - 0s 3ms/step - loss: 0.2093 - accuracy: 0.9310 - val_loss: 2.7308 - val_accuracy: 0.4842\n",
      "Epoch 105/150\n",
      "57/57 [==============================] - 0s 3ms/step - loss: 0.2638 - accuracy: 0.9006 - val_loss: 2.8425 - val_accuracy: 0.4997\n",
      "Epoch 106/150\n",
      "57/57 [==============================] - 0s 2ms/step - loss: 0.2360 - accuracy: 0.9135 - val_loss: 2.8409 - val_accuracy: 0.4993\n",
      "Epoch 107/150\n",
      "57/57 [==============================] - 0s 3ms/step - loss: 0.2260 - accuracy: 0.9169 - val_loss: 2.8106 - val_accuracy: 0.4810\n",
      "Epoch 108/150\n",
      "57/57 [==============================] - 0s 3ms/step - loss: 0.2352 - accuracy: 0.9164 - val_loss: 2.8302 - val_accuracy: 0.4920\n",
      "Epoch 109/150\n",
      "57/57 [==============================] - 0s 3ms/step - loss: 0.1985 - accuracy: 0.9343 - val_loss: 2.9324 - val_accuracy: 0.5015\n",
      "Epoch 110/150\n",
      "57/57 [==============================] - 0s 2ms/step - loss: 0.2001 - accuracy: 0.9320 - val_loss: 2.9696 - val_accuracy: 0.4842\n",
      "Epoch 111/150\n",
      "57/57 [==============================] - 0s 3ms/step - loss: 0.2165 - accuracy: 0.9196 - val_loss: 2.9430 - val_accuracy: 0.4854\n",
      "Epoch 112/150\n",
      "57/57 [==============================] - 0s 3ms/step - loss: 0.1778 - accuracy: 0.9438 - val_loss: 3.0480 - val_accuracy: 0.4758\n",
      "Epoch 113/150\n",
      "57/57 [==============================] - 0s 3ms/step - loss: 0.2553 - accuracy: 0.9052 - val_loss: 3.0875 - val_accuracy: 0.4867\n",
      "Epoch 114/150\n",
      "57/57 [==============================] - 0s 4ms/step - loss: 0.1787 - accuracy: 0.9423 - val_loss: 3.2493 - val_accuracy: 0.5015\n",
      "Epoch 115/150\n",
      "57/57 [==============================] - 0s 3ms/step - loss: 0.2072 - accuracy: 0.9271 - val_loss: 3.2034 - val_accuracy: 0.4780\n"
     ]
    },
    {
     "name": "stdout",
     "output_type": "stream",
     "text": [
      "Epoch 116/150\n",
      "57/57 [==============================] - 0s 2ms/step - loss: 0.2048 - accuracy: 0.9267 - val_loss: 3.1553 - val_accuracy: 0.4732\n",
      "Epoch 117/150\n",
      "57/57 [==============================] - 0s 2ms/step - loss: 0.1828 - accuracy: 0.9390 - val_loss: 3.2010 - val_accuracy: 0.4867\n",
      "Epoch 118/150\n",
      "57/57 [==============================] - 0s 2ms/step - loss: 0.1834 - accuracy: 0.9363 - val_loss: 3.2412 - val_accuracy: 0.4844\n",
      "Epoch 119/150\n",
      "57/57 [==============================] - 0s 1ms/step - loss: 0.1615 - accuracy: 0.9483 - val_loss: 3.2429 - val_accuracy: 0.4798\n",
      "Epoch 120/150\n",
      "57/57 [==============================] - 0s 2ms/step - loss: 0.1858 - accuracy: 0.9333 - val_loss: 3.3248 - val_accuracy: 0.4842\n",
      "Epoch 121/150\n",
      "57/57 [==============================] - 0s 1ms/step - loss: 0.1373 - accuracy: 0.9616 - val_loss: 3.4019 - val_accuracy: 0.4832\n",
      "Epoch 122/150\n",
      "57/57 [==============================] - 0s 1ms/step - loss: 0.1302 - accuracy: 0.9647 - val_loss: 3.4561 - val_accuracy: 0.4932\n",
      "Epoch 123/150\n",
      "57/57 [==============================] - 0s 1ms/step - loss: 0.1244 - accuracy: 0.9676 - val_loss: 3.5150 - val_accuracy: 0.4946\n",
      "Epoch 124/150\n",
      "57/57 [==============================] - 0s 2ms/step - loss: 0.1389 - accuracy: 0.9571 - val_loss: 3.5997 - val_accuracy: 0.5002\n",
      "Epoch 125/150\n",
      "57/57 [==============================] - 0s 2ms/step - loss: 0.1767 - accuracy: 0.9398 - val_loss: 3.5731 - val_accuracy: 0.4946\n",
      "Epoch 126/150\n",
      "57/57 [==============================] - 0s 2ms/step - loss: 0.1202 - accuracy: 0.9670 - val_loss: 3.5865 - val_accuracy: 0.4969\n",
      "Epoch 127/150\n",
      "57/57 [==============================] - 0s 2ms/step - loss: 0.1210 - accuracy: 0.9667 - val_loss: 3.6941 - val_accuracy: 0.4985\n",
      "Epoch 128/150\n",
      "57/57 [==============================] - 0s 2ms/step - loss: 0.1691 - accuracy: 0.9418 - val_loss: 3.6884 - val_accuracy: 0.4948\n",
      "Epoch 129/150\n",
      "57/57 [==============================] - 0s 2ms/step - loss: 0.1885 - accuracy: 0.9334 - val_loss: 3.6821 - val_accuracy: 0.4878\n",
      "Epoch 130/150\n",
      "57/57 [==============================] - 0s 1ms/step - loss: 0.1143 - accuracy: 0.9681 - val_loss: 3.7638 - val_accuracy: 0.4911\n",
      "Epoch 131/150\n",
      "57/57 [==============================] - 0s 2ms/step - loss: 0.1083 - accuracy: 0.9723 - val_loss: 3.8359 - val_accuracy: 0.4979\n",
      "Epoch 132/150\n",
      "57/57 [==============================] - 0s 2ms/step - loss: 0.0936 - accuracy: 0.9789 - val_loss: 3.9153 - val_accuracy: 0.4868\n",
      "Epoch 133/150\n",
      "57/57 [==============================] - 0s 2ms/step - loss: 0.0953 - accuracy: 0.9778 - val_loss: 3.9708 - val_accuracy: 0.4953\n",
      "Epoch 134/150\n",
      "57/57 [==============================] - 0s 2ms/step - loss: 0.1012 - accuracy: 0.9718 - val_loss: 4.0005 - val_accuracy: 0.4888\n",
      "Epoch 135/150\n",
      "57/57 [==============================] - 0s 2ms/step - loss: 0.1181 - accuracy: 0.9640 - val_loss: 4.0839 - val_accuracy: 0.4834\n",
      "Epoch 136/150\n",
      "57/57 [==============================] - 0s 2ms/step - loss: 0.1752 - accuracy: 0.9366 - val_loss: 4.0367 - val_accuracy: 0.4922\n",
      "Epoch 137/150\n",
      "57/57 [==============================] - 0s 2ms/step - loss: 0.1108 - accuracy: 0.9667 - val_loss: 4.0878 - val_accuracy: 0.4694\n",
      "Epoch 138/150\n",
      "57/57 [==============================] - 0s 2ms/step - loss: 0.1756 - accuracy: 0.9333 - val_loss: 4.0700 - val_accuracy: 0.4795\n",
      "Epoch 139/150\n",
      "57/57 [==============================] - 0s 2ms/step - loss: 0.1168 - accuracy: 0.9620 - val_loss: 4.1850 - val_accuracy: 0.4854\n",
      "Epoch 140/150\n",
      "57/57 [==============================] - 0s 2ms/step - loss: 0.1122 - accuracy: 0.9640 - val_loss: 4.1562 - val_accuracy: 0.4885\n",
      "Epoch 141/150\n",
      "57/57 [==============================] - 0s 2ms/step - loss: 0.1080 - accuracy: 0.9676 - val_loss: 4.2292 - val_accuracy: 0.4907\n",
      "Epoch 142/150\n",
      "57/57 [==============================] - 0s 2ms/step - loss: 0.0764 - accuracy: 0.9837 - val_loss: 4.2610 - val_accuracy: 0.4920\n",
      "Epoch 143/150\n",
      "57/57 [==============================] - 0s 2ms/step - loss: 0.0733 - accuracy: 0.9847 - val_loss: 4.3726 - val_accuracy: 0.4875\n",
      "Epoch 144/150\n",
      "57/57 [==============================] - 0s 2ms/step - loss: 0.0718 - accuracy: 0.9849 - val_loss: 4.4844 - val_accuracy: 0.4873\n",
      "Epoch 145/150\n",
      "57/57 [==============================] - 0s 2ms/step - loss: 0.1227 - accuracy: 0.9583 - val_loss: 4.4171 - val_accuracy: 0.4839\n",
      "Epoch 146/150\n",
      "57/57 [==============================] - 0s 2ms/step - loss: 0.0662 - accuracy: 0.9875 - val_loss: 4.4507 - val_accuracy: 0.4894\n",
      "Epoch 147/150\n",
      "57/57 [==============================] - 0s 2ms/step - loss: 0.0659 - accuracy: 0.9863 - val_loss: 4.5656 - val_accuracy: 0.4927\n",
      "Epoch 148/150\n",
      "57/57 [==============================] - 0s 2ms/step - loss: 0.1014 - accuracy: 0.9676 - val_loss: 4.4992 - val_accuracy: 0.4789\n",
      "Epoch 149/150\n",
      "57/57 [==============================] - 0s 2ms/step - loss: 0.2069 - accuracy: 0.9260 - val_loss: 4.4089 - val_accuracy: 0.4837\n",
      "Epoch 150/150\n",
      "57/57 [==============================] - 0s 2ms/step - loss: 0.1578 - accuracy: 0.9419 - val_loss: 4.5377 - val_accuracy: 0.4699\n",
      "Wall time: 17.5 s\n"
     ]
    }
   ],
   "source": [
    "%%time\n",
    "callback6 = TimingCallback()\n",
    "history6 = model6.fit(X_train, y_train, epochs=150, batch_size=256, validation_data=(X_test, y_test), callbacks=[callback6])"
   ]
  },
  {
   "cell_type": "code",
   "execution_count": 37,
   "id": "95afadbb",
   "metadata": {},
   "outputs": [
    {
     "name": "stdout",
     "output_type": "stream",
     "text": [
      "<-------------Model Accuracy Graph------------->\n"
     ]
    },
    {
     "data": {
      "image/png": "[encoded data removed]",
      "text/plain": [
       "<Figure size 432x288 with 1 Axes>"
      ]
     },
     "metadata": {
      "needs_background": "light"
     },
     "output_type": "display_data"
    },
    {
     "name": "stdout",
     "output_type": "stream",
     "text": [
      "<-------------Model Loss Graph------------->\n"
     ]
    },
    {
     "data": {
      "image/png": "[encoded data removed]",
      "text/plain": [
       "<Figure size 432x288 with 1 Axes>"
      ]
     },
     "metadata": {
      "needs_background": "light"
     },
     "output_type": "display_data"
    },
    {
     "name": "stdout",
     "output_type": "stream",
     "text": [
      "Wall time: 218 ms\n"
     ]
    }
   ],
   "source": [
    "%%time\n",
    "print('<-------------Model Accuracy Graph------------->')\n",
    "plot_model_accuracy(history6)\n",
    "\n",
    "print('<-------------Model Loss Graph------------->')\n",
    "plot_model_loss(history6)"
   ]
  },
  {
   "cell_type": "code",
   "execution_count": 38,
   "id": "96b33ae1",
   "metadata": {
    "scrolled": true
   },
   "outputs": [
    {
     "name": "stdout",
     "output_type": "stream",
     "text": [
      "Total time taken in training the model: 17.34 seconds\n",
      "Wall time: 0 ns\n"
     ]
    }
   ],
   "source": [
    "%%time\n",
    "print('Total time taken in training the model: %.2f seconds' % (sum(callback6.logs)))"
   ]
  },
  {
   "cell_type": "code",
   "execution_count": 39,
   "id": "c1e8ae78",
   "metadata": {
    "scrolled": false
   },
   "outputs": [
    {
     "name": "stdout",
     "output_type": "stream",
     "text": [
      "193/193 [==============================] - 0s 933us/step - loss: 4.5377 - accuracy: 0.4699\n",
      "\n",
      "Test accuracy = 0.4699089229106903 \n",
      "loss - 4.537723064422607\n",
      "\n",
      "\n",
      "Classification Report\n",
      "               precision    recall  f1-score   support\n",
      "\n",
      "           0       0.54      0.53      0.54       432\n",
      "           1       0.31      0.39      0.35       523\n",
      "           2       0.22      0.31      0.26       645\n",
      "           3       0.40      0.37      0.38      1887\n",
      "           4       0.65      0.59      0.62      2661\n",
      "\n",
      "    accuracy                           0.47      6148\n",
      "   macro avg       0.42      0.44      0.43      6148\n",
      "weighted avg       0.49      0.47      0.48      6148\n",
      "\n",
      "=====================================================\n",
      "\n",
      "Confusion Matrix Display\n"
     ]
    },
    {
     "data": {
      "image/png": "[encoded data removed]",
      "text/plain": [
       "<Figure size 432x288 with 2 Axes>"
      ]
     },
     "metadata": {
      "needs_background": "light"
     },
     "output_type": "display_data"
    },
    {
     "name": "stdout",
     "output_type": "stream",
     "text": [
      "Wall time: 834 ms\n"
     ]
    }
   ],
   "source": [
    "%%time\n",
    "loss6, acc6 = model6.evaluate(X_test, y_test)\n",
    "print('\\nTest accuracy = {} \\nloss - {}\\n'.format(acc6, loss6))\n",
    "y_pred6 = np.argmax(model6.predict(X_test), axis=-1)\n",
    "cm6 = classification_report(inverse_transformed_y_test, y_pred6)\n",
    "print('\\nClassification Report\\n', cm6)\n",
    "print('=====================================================\\n')\n",
    "confusion_matrix6 = confusion_matrix(inverse_transformed_y_test, y_pred6)\n",
    "print('Confusion Matrix Display')\n",
    "disp = ConfusionMatrixDisplay(confusion_matrix=confusion_matrix6, display_labels=[0, 1, 2, 3, 4])\n",
    "disp.plot()\n",
    "plt.show()"
   ]
  },
  {
   "cell_type": "code",
   "execution_count": 40,
   "id": "0dcd320e",
   "metadata": {},
   "outputs": [
    {
     "name": "stdout",
     "output_type": "stream",
     "text": [
      "Wall time: 0 ns\n"
     ]
    }
   ],
   "source": [
    "%%time\n",
    "q1_model_comparision.append(['Model-3', loss6, acc6])"
   ]
  },
  {
   "cell_type": "code",
   "execution_count": 41,
   "id": "efc62d12",
   "metadata": {
    "scrolled": true
   },
   "outputs": [
    {
     "name": "stdout",
     "output_type": "stream",
     "text": [
      "Wall time: 2.02 ms\n"
     ]
    },
    {
     "data": {
      "text/html": [
       "<div>\n",
       "<style scoped>\n",
       "    .dataframe tbody tr th:only-of-type {\n",
       "        vertical-align: middle;\n",
       "    }\n",
       "\n",
       "    .dataframe tbody tr th {\n",
       "        vertical-align: top;\n",
       "    }\n",
       "\n",
       "    .dataframe thead th {\n",
       "        text-align: right;\n",
       "    }\n",
       "</style>\n",
       "<table border=\"1\" class=\"dataframe\">\n",
       "  <thead>\n",
       "    <tr style=\"text-align: right;\">\n",
       "      <th></th>\n",
       "      <th>Rating</th>\n",
       "      <th>Correct</th>\n",
       "      <th>Correct_Perc</th>\n",
       "      <th>Incorrect</th>\n",
       "      <th>InCorrect_Perc</th>\n",
       "    </tr>\n",
       "  </thead>\n",
       "  <tbody>\n",
       "    <tr>\n",
       "      <th>0</th>\n",
       "      <td>1</td>\n",
       "      <td>230</td>\n",
       "      <td>53.24%</td>\n",
       "      <td>202</td>\n",
       "      <td>46.76%</td>\n",
       "    </tr>\n",
       "    <tr>\n",
       "      <th>1</th>\n",
       "      <td>2</td>\n",
       "      <td>205</td>\n",
       "      <td>39.2%</td>\n",
       "      <td>318</td>\n",
       "      <td>60.8%</td>\n",
       "    </tr>\n",
       "    <tr>\n",
       "      <th>2</th>\n",
       "      <td>3</td>\n",
       "      <td>203</td>\n",
       "      <td>31.47%</td>\n",
       "      <td>442</td>\n",
       "      <td>68.53%</td>\n",
       "    </tr>\n",
       "    <tr>\n",
       "      <th>3</th>\n",
       "      <td>4</td>\n",
       "      <td>691</td>\n",
       "      <td>36.62%</td>\n",
       "      <td>1196</td>\n",
       "      <td>63.38%</td>\n",
       "    </tr>\n",
       "    <tr>\n",
       "      <th>4</th>\n",
       "      <td>5</td>\n",
       "      <td>1560</td>\n",
       "      <td>58.62%</td>\n",
       "      <td>1101</td>\n",
       "      <td>41.38%</td>\n",
       "    </tr>\n",
       "  </tbody>\n",
       "</table>\n",
       "</div>"
      ],
      "text/plain": [
       "   Rating  Correct Correct_Perc  Incorrect InCorrect_Perc\n",
       "0       1      230       53.24%        202         46.76%\n",
       "1       2      205        39.2%        318          60.8%\n",
       "2       3      203       31.47%        442         68.53%\n",
       "3       4      691       36.62%       1196         63.38%\n",
       "4       5     1560       58.62%       1101         41.38%"
      ]
     },
     "execution_count": 41,
     "metadata": {},
     "output_type": "execute_result"
    }
   ],
   "source": [
    "%%time\n",
    "calculate_total_correct_incorrect_prediction(confusion_matrix6)"
   ]
  },
  {
   "cell_type": "code",
   "execution_count": 42,
   "id": "2f6e46c3",
   "metadata": {},
   "outputs": [
    {
     "name": "stdout",
     "output_type": "stream",
     "text": [
      "Based on the above classification report, the model classified class label '5' records the best with accuracy of 87% while the worst performing class label '3' with accuracy of merely 20%\n",
      "Wall time: 0 ns\n"
     ]
    }
   ],
   "source": [
    "%%time\n",
    "print(\"Based on the above classification report, the model classified class label '5' records the best with accuracy of 87% while the worst performing class label '3' with accuracy of merely 20%\")"
   ]
  },
  {
   "cell_type": "code",
   "execution_count": 43,
   "id": "c4bd2f4e",
   "metadata": {},
   "outputs": [],
   "source": [
    "#==============================================================================\n",
    "# Two most incorrectly classified records for each class in the test dataset.\n",
    "#==============================================================================\n",
    "\n",
    "# for i in range(1,6):  \n",
    "#     count =0\n",
    "#     for index, input, prediction, label in zip(enumerate(X_test), X_test, y_pred4, inverse_transformed_y_test):\n",
    "#         print(index, input, prediction, label)\n",
    "#         if prediction != label and count<10:\n",
    "#             print(', has been classified as', prediction, 'and should be', label) \n",
    "#             count=count+1"
   ]
  },
  {
   "cell_type": "markdown",
   "id": "5cbac885",
   "metadata": {},
   "source": [
    "***********************************\n",
    "## Models Comparision\n",
    "    1. Accuracy comparision of the Models\n",
    "    2. Loss comparision of the Models\n",
    "\n",
    "***********************************"
   ]
  },
  {
   "cell_type": "code",
   "execution_count": 44,
   "id": "80e7d6bd",
   "metadata": {},
   "outputs": [
    {
     "name": "stdout",
     "output_type": "stream",
     "text": [
      "Wall time: 1.02 ms\n"
     ]
    }
   ],
   "source": [
    "%%time\n",
    "q1_model_comparision_df = pd.DataFrame(q1_model_comparision, columns = ['Model', 'Loss', 'Accuracy'])"
   ]
  },
  {
   "cell_type": "code",
   "execution_count": 45,
   "id": "61d034dc",
   "metadata": {},
   "outputs": [
    {
     "name": "stdout",
     "output_type": "stream",
     "text": [
      "Wall time: 38.9 ms\n"
     ]
    },
    {
     "data": {
      "image/png": "[encoded data removed]",
      "text/plain": [
       "<Figure size 432x288 with 1 Axes>"
      ]
     },
     "metadata": {
      "needs_background": "light"
     },
     "output_type": "display_data"
    }
   ],
   "source": [
    "%%time\n",
    "model2 = sns.barplot(x = 'Model', y = 'Accuracy', data = q1_model_comparision_df)"
   ]
  },
  {
   "cell_type": "markdown",
   "id": "483b93eb",
   "metadata": {},
   "source": [
    "As from the Accuracy comparision bar plot, we can conclude that the Model-2 is outperforming the Model-1 in terms of the Accuracy on the Validation data."
   ]
  },
  {
   "cell_type": "code",
   "execution_count": 46,
   "id": "02ef3da7",
   "metadata": {},
   "outputs": [
    {
     "name": "stdout",
     "output_type": "stream",
     "text": [
      "Wall time: 37.9 ms\n"
     ]
    },
    {
     "data": {
      "image/png": "[encoded data removed]",
      "text/plain": [
       "<Figure size 432x288 with 1 Axes>"
      ]
     },
     "metadata": {
      "needs_background": "light"
     },
     "output_type": "display_data"
    }
   ],
   "source": [
    "%%time\n",
    "model1 = sns.barplot(x = 'Model', y = 'Loss', data = q1_model_comparision_df)"
   ]
  }
 ],
 "metadata": {
  "kernelspec": {
   "display_name": "Python 3",
   "language": "python",
   "name": "python3"
  },
  "language_info": {
   "codemirror_mode": {
    "name": "ipython",
    "version": 3
   },
   "file_extension": ".py",
   "mimetype": "text/x-python",
   "name": "python",
   "nbconvert_exporter": "python",
   "pygments_lexer": "ipython3",
   "version": "3.6.13"
  }
 },
 "nbformat": 4,
 "nbformat_minor": 5
}
